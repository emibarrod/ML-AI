{
 "cells": [
  {
   "cell_type": "markdown",
   "metadata": {},
   "source": [
    "# Ejemplos con Sklearn#\n",
    "*Emilio Barragán Rodríguez*"
   ]
  },
  {
   "cell_type": "markdown",
   "metadata": {},
   "source": [
    " "
   ]
  },
  {
   "cell_type": "markdown",
   "metadata": {},
   "source": [
    " # *Índice*\n",
    "\n",
    "1. [Imágenes de dígitos escritos a manos](#Imágenes-de-dígitos-escritos-a-manos)\n",
    "    1. [Exploración preliminar del dataset](#Exploración-preliminar-del-dataset)\n",
    "    2. [Clasificación](#Clasificación)\n",
    "    3. [Conclusiones](#Conclusiones)\n",
    "      \n",
    "2. [Críticas de cine en IMDB](#2.-Críticas-de-cine-en-IMDB)\n",
    "    1. [Exploración preliminar de las reviews](#Exploración-preliminar-de-las-reviews)\n",
    "    1. [Limpieza de datos](#Limpieza-de-datos)\n",
    "    2. [Clasificación de reviews](#Clasificación-de-reviews)\n",
    "\n",
    "3. [Boston dataset](#3.-Boston-dataset)\n",
    "    1. [Descripción del dataset](#Descripción-del-dataset)\n",
    "    2. [Predicción de precios](#Predicción-de-precios)"
   ]
  },
  {
   "cell_type": "markdown",
   "metadata": {},
   "source": [
    " "
   ]
  },
  {
   "cell_type": "markdown",
   "metadata": {},
   "source": [
    " "
   ]
  },
  {
   "cell_type": "markdown",
   "metadata": {},
   "source": [
    "  "
   ]
  },
  {
   "cell_type": "markdown",
   "metadata": {},
   "source": [
    "# 1. Imágenes de dígitos escritos a manos"
   ]
  },
  {
   "cell_type": "code",
   "execution_count": 472,
   "metadata": {},
   "outputs": [],
   "source": [
    "# Importamos el dataset de dígitos desde sklearn.\n",
    "from sklearn.datasets import load_digits\n",
    "\n",
    "# Cargamos el dataset en la variable digitos.\n",
    "digitos = load_digits()"
   ]
  },
  {
   "cell_type": "markdown",
   "metadata": {},
   "source": [
    "## Exploración preliminar del dataset"
   ]
  },
  {
   "cell_type": "markdown",
   "metadata": {},
   "source": [
    "Mostramos una imagen cualquiera de nuestros datos para ver cómo son:"
   ]
  },
  {
   "cell_type": "code",
   "execution_count": 473,
   "metadata": {},
   "outputs": [
    {
     "data": {
      "text/plain": [
       "<Figure size 432x288 with 0 Axes>"
      ]
     },
     "metadata": {},
     "output_type": "display_data"
    },
    {
     "data": {
      "image/png": "[encoded data removed]",
      "text/plain": [
       "<Figure size 288x288 with 1 Axes>"
      ]
     },
     "metadata": {
      "needs_background": "light"
     },
     "output_type": "display_data"
    },
    {
     "name": "stdout",
     "output_type": "stream",
     "text": [
      "Clase de la imagen: 6\n"
     ]
    }
   ],
   "source": [
    "# Importamos matplotlib:\n",
    "\n",
    "import matplotlib.pyplot as plt\n",
    "\n",
    "# Queremos que lo muestre en blanco y negro.\n",
    "plt.gray()\n",
    "\n",
    "# matshow nos permite representar \"gráficamente\" una imagen desde una matriz.\n",
    "plt.matshow(digitos.images[234]) \n",
    "plt.show() \n",
    "print(\"Clase de la imagen: {}\".format(digitos.target[234]))"
   ]
  },
  {
   "cell_type": "markdown",
   "metadata": {},
   "source": [
    "### Descripción básica"
   ]
  },
  {
   "cell_type": "markdown",
   "metadata": {},
   "source": [
    "Veamos cómo son los datos que tenemos en nuestro dataset:"
   ]
  },
  {
   "cell_type": "code",
   "execution_count": 474,
   "metadata": {},
   "outputs": [
    {
     "name": "stdout",
     "output_type": "stream",
     "text": [
      "\n",
      "[[ 0.  0.  5. ...  0.  0.  0.]\n",
      " [ 0.  0.  0. ... 10.  0.  0.]\n",
      " [ 0.  0.  0. ... 16.  9.  0.]\n",
      " ...\n",
      " [ 0.  0.  1. ...  6.  0.  0.]\n",
      " [ 0.  0.  2. ... 12.  0.  0.]\n",
      " [ 0.  0. 10. ... 12.  1.  0.]]\n"
     ]
    }
   ],
   "source": [
    "print()\n",
    "print(digitos.data) # .data nos devuelve el conjunto de datos (X)."
   ]
  },
  {
   "cell_type": "markdown",
   "metadata": {},
   "source": [
    "Shape del dataset. Esto nos devuelve una tupla del tipo (ejemplos, features), aunque en nuestro caso **cada feature es un pixel de la imagen**:"
   ]
  },
  {
   "cell_type": "code",
   "execution_count": 475,
   "metadata": {},
   "outputs": [
    {
     "name": "stdout",
     "output_type": "stream",
     "text": [
      "\n",
      "(1797, 64)\n"
     ]
    }
   ],
   "source": [
    "print()\n",
    "print(digitos.data.shape) # .shape nos devuelve la forma de nuestro dataset."
   ]
  },
  {
   "cell_type": "markdown",
   "metadata": {},
   "source": [
    "Nos devuelve (1797, 64). Esto quiere decir que tenemos 1797 ejemplos y 64 pixeles por cada uno. "
   ]
  },
  {
   "cell_type": "markdown",
   "metadata": {},
   "source": [
    "Veamos las distintas clases (números) que tenemos:"
   ]
  },
  {
   "cell_type": "code",
   "execution_count": 476,
   "metadata": {},
   "outputs": [
    {
     "name": "stdout",
     "output_type": "stream",
     "text": [
      "\n",
      "[0 1 2 3 4 5 6 7 8 9]\n"
     ]
    }
   ],
   "source": [
    "print()\n",
    "print(digitos.target_names) # .target_names nos devuelve las clases que hay en nuestro dataset."
   ]
  },
  {
   "cell_type": "markdown",
   "metadata": {},
   "source": [
    "Tenemos entonces imágenes de los números del 0 al 9."
   ]
  },
  {
   "cell_type": "markdown",
   "metadata": {},
   "source": [
    "Descripción del dataset:"
   ]
  },
  {
   "cell_type": "code",
   "execution_count": 477,
   "metadata": {},
   "outputs": [
    {
     "name": "stdout",
     "output_type": "stream",
     "text": [
      "\n",
      ".. _digits_dataset:\n",
      "\n",
      "Optical recognition of handwritten digits dataset\n",
      "--------------------------------------------------\n",
      "\n",
      "**Data Set Characteristics:**\n",
      "\n",
      "    :Number of Instances: 5620\n",
      "    :Number of Attributes: 64\n",
      "    :Attribute Information: 8x8 image of integer pixels in the range 0..16.\n",
      "    :Missing Attribute Values: None\n",
      "    :Creator: E. Alpaydin (alpaydin '@' boun.edu.tr)\n",
      "    :Date: July; 1998\n",
      "\n",
      "This is a copy of the test set of the UCI ML hand-written digits datasets\n",
      "https://archive.ics.uci.edu/ml/datasets/Optical+Recognition+of+Handwritten+Digits\n",
      "\n",
      "The data set contains images of hand-written digits: 10 classes where\n",
      "each class refers to a digit.\n",
      "\n",
      "Preprocessing programs made available by NIST were used to extract\n",
      "normalized bitmaps of handwritten digits from a preprinted form. From a\n",
      "total of 43 people, 30 contributed to the training set and different 13\n",
      "to the test set. 32x32 bitmaps are divided into nonoverlapping blocks of\n",
      "4x4 and the number of on pixels are counted in each block. This generates\n",
      "an input matrix of 8x8 where each element is an integer in the range\n",
      "0..16. This reduces dimensionality and gives invariance to small\n",
      "distortions.\n",
      "\n",
      "For info on NIST preprocessing routines, see M. D. Garris, J. L. Blue, G.\n",
      "T. Candela, D. L. Dimmick, J. Geist, P. J. Grother, S. A. Janet, and C.\n",
      "L. Wilson, NIST Form-Based Handprint Recognition System, NISTIR 5469,\n",
      "1994.\n",
      "\n",
      ".. topic:: References\n",
      "\n",
      "  - C. Kaynak (1995) Methods of Combining Multiple Classifiers and Their\n",
      "    Applications to Handwritten Digit Recognition, MSc Thesis, Institute of\n",
      "    Graduate Studies in Science and Engineering, Bogazici University.\n",
      "  - E. Alpaydin, C. Kaynak (1998) Cascading Classifiers, Kybernetika.\n",
      "  - Ken Tang and Ponnuthurai N. Suganthan and Xi Yao and A. Kai Qin.\n",
      "    Linear dimensionalityreduction using relevance weighted LDA. School of\n",
      "    Electrical and Electronic Engineering Nanyang Technological University.\n",
      "    2005.\n",
      "  - Claudio Gentile. A New Approximate Maximal Margin Classification\n",
      "    Algorithm. NIPS. 2000.\n"
     ]
    }
   ],
   "source": [
    "print()\n",
    "print(digitos.DESCR) # .DESCR nos muestra una descripción general del dataset."
   ]
  },
  {
   "cell_type": "markdown",
   "metadata": {},
   "source": [
    "### Algunas gráficas"
   ]
  },
  {
   "cell_type": "markdown",
   "metadata": {},
   "source": [
    "Separamos el dataset en los datos y sus correspondientes targets"
   ]
  },
  {
   "cell_type": "code",
   "execution_count": 478,
   "metadata": {},
   "outputs": [],
   "source": [
    "# A \"X_digitos\" le asignamos \"digitos.data\" (que es donde están todos nuestros píxeles)\n",
    "# y a \"y_digitos\" le asignamos \"digitos.target\" (que es donde están todas las clases)\n",
    "# para cada uno de nuestros ejemplos.\n",
    "\n",
    "X_digitos, y_digitos = digitos.data, digitos.target"
   ]
  },
  {
   "cell_type": "markdown",
   "metadata": {},
   "source": [
    "Veamos ahora si nuestro dataset está equilibrado. Primero usaremos un histograma:"
   ]
  },
  {
   "cell_type": "code",
   "execution_count": 479,
   "metadata": {},
   "outputs": [
    {
     "name": "stdout",
     "output_type": "stream",
     "text": [
      "\n"
     ]
    },
    {
     "data": {
      "image/png": "[encoded data removed]",
      "text/plain": [
       "<Figure size 432x288 with 1 Axes>"
      ]
     },
     "metadata": {
      "needs_background": "light"
     },
     "output_type": "display_data"
    }
   ],
   "source": [
    "print()\n",
    "\n",
    "x = y_digitos                          # La altura del histograma la marcará la cantidad\n",
    "                                       # de ejemplos de cada número.\n",
    "    \n",
    "plt.hist(x, bins = 10,# El número de barras es 10 ya que hay 10 clases de números.\n",
    "         color=\"skyblue\")  # He elegido el color celeste..\n",
    "\n",
    "plt.show()                             # Mostramos el histograma."
   ]
  },
  {
   "cell_type": "markdown",
   "metadata": {},
   "source": [
    " Ahora con una pie plot"
   ]
  },
  {
   "cell_type": "code",
   "execution_count": 480,
   "metadata": {},
   "outputs": [
    {
     "name": "stdout",
     "output_type": "stream",
     "text": [
      "\n"
     ]
    },
    {
     "data": {
      "image/png": "[encoded data removed]",
      "text/plain": [
       "<Figure size 432x288 with 1 Axes>"
      ]
     },
     "metadata": {},
     "output_type": "display_data"
    }
   ],
   "source": [
    "print() \n",
    "\n",
    "lista_digitos = y_digitos.tolist() # Lista con todas las clasificaciones de nuestro dataset\n",
    "labels = [0,1,2,3,4,5,6,7,8,9]     # Labels para nuestra tarta\n",
    "\n",
    "# El tamaño de cada trozo será el número de veces que aparece cada número en nuestra lista lista_digitos\n",
    "sizes = [lista_digitos.count(0),lista_digitos.count(1),lista_digitos.count(2),\n",
    "         lista_digitos.count(3),lista_digitos.count(4),lista_digitos.count(5),\n",
    "         lista_digitos.count(6),lista_digitos.count(7),lista_digitos.count(8),lista_digitos.count(9)]\n",
    "\n",
    "# Plot\n",
    "plt.pie(sizes,              # Declaramos los tamaños para cada trozo\n",
    "        labels=labels,      # Declaramos cuáles son las etiquetas\n",
    "        autopct='%1.1f%%',  # Opción para mostrar los porcentajes\n",
    "        startangle=140)     # Ángulo en el que queremos empezar\n",
    "\n",
    "plt.axis('equal')           # Opción para que la gráfica salga mejor centrada\n",
    "plt.show()"
   ]
  },
  {
   "cell_type": "markdown",
   "metadata": {},
   "source": [
    " Vemos que nuestro dataset está bastante bien equilibrado, ya que tenemos aproximadamente los mismos ejemplos para cada clase de número. Tenemos alrededor del 10% de los ejemplos para cada uno."
   ]
  },
  {
   "cell_type": "markdown",
   "metadata": {},
   "source": [
    "## Clasificación"
   ]
  },
  {
   "cell_type": "markdown",
   "metadata": {},
   "source": [
    "Nuestro objetivo con este dataset es poder clasificar las imágenes, diciendo de qué número se trata en cada caso."
   ]
  },
  {
   "cell_type": "code",
   "execution_count": 481,
   "metadata": {},
   "outputs": [],
   "source": [
    "# Para separar nuestro dataset en test y train.\n",
    "from sklearn.model_selection import train_test_split \n",
    "\n",
    "# Para poder usar cross validation\n",
    "from sklearn.model_selection import cross_val_score\n",
    "\n",
    "# El modelo de clasificación que vamos a usar.\n",
    "from sklearn.svm import SVC\n",
    "\n",
    "# GridSearchCV. Para búsqueda de parámetros.\n",
    "from sklearn.model_selection import GridSearchCV\n",
    "\n",
    "import numpy as np"
   ]
  },
  {
   "cell_type": "markdown",
   "metadata": {},
   "source": [
    "### Creación del modelo"
   ]
  },
  {
   "cell_type": "markdown",
   "metadata": {},
   "source": [
    " Para este primer apartado, vamos a separar nuestro dataset en entrenamiento y test. Vamos a darle al entrenamiento el 80% de los datos."
   ]
  },
  {
   "cell_type": "code",
   "execution_count": 482,
   "metadata": {},
   "outputs": [],
   "source": [
    "X_train, X_test, y_train, y_test = train_test_split(X_digitos, y_digitos , train_size=0.8)"
   ]
  },
  {
   "cell_type": "code",
   "execution_count": 483,
   "metadata": {},
   "outputs": [
    {
     "data": {
      "text/plain": [
       "array([[ 0.,  1.,  8., ...,  5.,  0.,  0.],\n",
       "       [ 0.,  0.,  2., ...,  3.,  0.,  0.],\n",
       "       [ 0.,  0., 12., ...,  3.,  0.,  0.],\n",
       "       ...,\n",
       "       [ 0.,  0.,  4., ...,  0.,  0.,  0.],\n",
       "       [ 0.,  0.,  7., ...,  0.,  0.,  0.],\n",
       "       [ 0.,  0., 11., ...,  1.,  0.,  0.]])"
      ]
     },
     "execution_count": 483,
     "metadata": {},
     "output_type": "execute_result"
    }
   ],
   "source": [
    "X_train"
   ]
  },
  {
   "cell_type": "markdown",
   "metadata": {},
   "source": [
    "En esta ocasión, no necesitamos normalizar y/o estandarizar nuestros datos ya que los valores para cada píxel de nuestras imágenes **se mueven en el mismo rango**."
   ]
  },
  {
   "cell_type": "markdown",
   "metadata": {},
   "source": [
    "### SVC"
   ]
  },
  {
   "cell_type": "markdown",
   "metadata": {},
   "source": [
    "El modelo de clasificación elegido es el modelo SVC. Es un modelo SVM (Support Vector Machine) pero aplicándole una **función Kernel** (cambiándole la dimensionalidad). Este modelo se ajusta a los datos de manera que \"devuelve\" el hiperplano que separa a las distintas clases. Este hiperplano intenta estar lo más separado de los elementos de cada clase."
   ]
  },
  {
   "cell_type": "markdown",
   "metadata": {},
   "source": [
    " ### GridSearchCV"
   ]
  },
  {
   "cell_type": "markdown",
   "metadata": {},
   "source": [
    "```GridSearchCV``` nos permite encontrar la mejor asignación de parámetros para nuestro modelo. Lo único malo es que lo hace por medio de la saturación, es decir, probando y probando. Por lo que muchas veces será bastate lento. Vamos a usarlo para encontrar los mejores parámetros de nuestro modelo."
   ]
  },
  {
   "cell_type": "markdown",
   "metadata": {},
   "source": [
    "Primero tenemos que definir los parámetros de nuestro modelo sobre los que haremos la búsqueda, y el rango en el que la haremos:"
   ]
  },
  {
   "cell_type": "code",
   "execution_count": 484,
   "metadata": {},
   "outputs": [],
   "source": [
    "params = {'C':np.arange(0.5, 3., 0.5), # Parámetro de regularización. La fuerza de dicha regularización es\n",
    "                                       # inversamente proporcional a C.\n",
    "          'kernel':('rbf','sigmoid'),  # Función para redimensionar nuestro SVM.\n",
    "          'gamma':np.arange(0., 0.005, 0.0005) # Coeficiente del kernel.\n",
    "}"
   ]
  },
  {
   "cell_type": "markdown",
   "metadata": {},
   "source": [
    "Después creamos nuestro modelo con ```GridSearchCV``` y le pasamos el modelo que queremos usar, los parámetros y las partes en las que queremos dividir los datos a la hora de hacer la búsqueda, para ver qué parámetros son mejores. El parámetro ```n_jobs``` nos permite usar tantos cores como tengamos disponibles, ya que la búsqueda requiere bastante cómputo. Si su valor es -1 es que estamos cogiendo todos los posibles."
   ]
  },
  {
   "cell_type": "code",
   "execution_count": 485,
   "metadata": {},
   "outputs": [],
   "source": [
    "modeloGSCV = GridSearchCV(SVC(), params, cv=5, n_jobs=-1)"
   ]
  },
  {
   "cell_type": "markdown",
   "metadata": {},
   "source": [
    "Por último entrenamos el modelo con nuestros datos:"
   ]
  },
  {
   "cell_type": "code",
   "execution_count": 486,
   "metadata": {},
   "outputs": [
    {
     "data": {
      "text/plain": [
       "GridSearchCV(cv=5, error_score=nan,\n",
       "             estimator=SVC(C=1.0, break_ties=False, cache_size=200,\n",
       "                           class_weight=None, coef0=0.0,\n",
       "                           decision_function_shape='ovr', degree=3,\n",
       "                           gamma='scale', kernel='rbf', max_iter=-1,\n",
       "                           probability=False, random_state=None, shrinking=True,\n",
       "                           tol=0.001, verbose=False),\n",
       "             iid='deprecated', n_jobs=-1,\n",
       "             param_grid={'C': array([0.5, 1. , 1.5, 2. , 2.5]),\n",
       "                         'gamma': array([0.    , 0.0005, 0.001 , 0.0015, 0.002 , 0.0025, 0.003 , 0.0035,\n",
       "       0.004 , 0.0045]),\n",
       "                         'kernel': ('rbf', 'sigmoid')},\n",
       "             pre_dispatch='2*n_jobs', refit=True, return_train_score=False,\n",
       "             scoring=None, verbose=0)"
      ]
     },
     "execution_count": 486,
     "metadata": {},
     "output_type": "execute_result"
    }
   ],
   "source": [
    "modeloGSCV.fit(X_train, y_train)"
   ]
  },
  {
   "cell_type": "markdown",
   "metadata": {},
   "source": [
    "Los mejores parámetros encontrados por GridSearchCV:"
   ]
  },
  {
   "cell_type": "code",
   "execution_count": 487,
   "metadata": {},
   "outputs": [
    {
     "name": "stdout",
     "output_type": "stream",
     "text": [
      "{'C': 2.5, 'gamma': 0.0005, 'kernel': 'rbf'}\n"
     ]
    }
   ],
   "source": [
    "print(modeloGSCV.best_params_)"
   ]
  },
  {
   "cell_type": "markdown",
   "metadata": {},
   "source": [
    "Puntuación (medida en precisión, cuánto acierta):"
   ]
  },
  {
   "cell_type": "code",
   "execution_count": 488,
   "metadata": {},
   "outputs": [
    {
     "name": "stdout",
     "output_type": "stream",
     "text": [
      "Score:  0.9944444444444445\n"
     ]
    }
   ],
   "source": [
    "print(\"Score: \", modeloGSCV.score(X_test, y_test))"
   ]
  },
  {
   "cell_type": "markdown",
   "metadata": {},
   "source": [
    "Para ver algún elemento que esté bien clasificado y alguno que esté mal clasificado creamos una función:"
   ]
  },
  {
   "cell_type": "code",
   "execution_count": 489,
   "metadata": {},
   "outputs": [],
   "source": [
    "def bienMal(predicciones, test):\n",
    "    \"\"\"\n",
    "    Función para ver qué elementos están mal y bien clasificados.\n",
    "    Recibe: predicciones hechas y datos de test sobre los que comprobar.\n",
    "    Devuelve: una tupla donde el primer elemento es el índice del primer\n",
    "    elemento bien clasificado, y el segundo elemento es el índice del\n",
    "    primer elemento mal clasificado.\n",
    "    \"\"\"\n",
    "    bien = []\n",
    "    mal = []\n",
    "    for i in range(len(predicciones)):\n",
    "        if predicciones[i]==test[i]: # Cogemos el primero que esté bien clasificado.\n",
    "            bien = i\n",
    "            break\n",
    "    for i in range(len(predicciones)):\n",
    "        if predicciones[i]!=test[i]: # Cogemos el primero que esté mal clasificado.\n",
    "            mal = i\n",
    "            break\n",
    "    print(\"Índice del primer elemento bien clasificado: \" + str(bien))\n",
    "    print(\"Índice del primer elemento mal clasificado: \" + str(mal))\n",
    "    return (bien,mal)"
   ]
  },
  {
   "cell_type": "code",
   "execution_count": 490,
   "metadata": {},
   "outputs": [
    {
     "name": "stdout",
     "output_type": "stream",
     "text": [
      "Índice del primer elemento bien clasificado: 0\n",
      "Índice del primer elemento mal clasificado: 232\n"
     ]
    }
   ],
   "source": [
    "predicciones = modeloGSCV.predict(X_test)\n",
    "bienmal = bienMal(predicciones, y_test)"
   ]
  },
  {
   "cell_type": "code",
   "execution_count": 491,
   "metadata": {},
   "outputs": [
    {
     "data": {
      "text/plain": [
       "<Figure size 432x288 with 0 Axes>"
      ]
     },
     "metadata": {},
     "output_type": "display_data"
    },
    {
     "data": {
      "image/png": "[encoded data removed]",
      "text/plain": [
       "<Figure size 288x288 with 1 Axes>"
      ]
     },
     "metadata": {
      "needs_background": "light"
     },
     "output_type": "display_data"
    },
    {
     "name": "stdout",
     "output_type": "stream",
     "text": [
      "Clase de la imagen: 1\n",
      "Clasificaión: 1\n"
     ]
    }
   ],
   "source": [
    "imagen = X_test[0].reshape(8,8)  # El reshape se debe a que las imágenes de X_train son 1 dimensionales, no son matrices.\n",
    "plt.gray()\n",
    "plt.matshow(imagen) \n",
    "plt.show() \n",
    "print(\"Clase de la imagen: {}\".format(y_test[bienmal[0]]))\n",
    "print(\"Clasificaión: {}\".format(predicciones[bienmal[0]]))"
   ]
  },
  {
   "cell_type": "code",
   "execution_count": 492,
   "metadata": {},
   "outputs": [
    {
     "data": {
      "text/plain": [
       "<Figure size 432x288 with 0 Axes>"
      ]
     },
     "metadata": {},
     "output_type": "display_data"
    },
    {
     "data": {
      "image/png": "[encoded data removed]",
      "text/plain": [
       "<Figure size 288x288 with 1 Axes>"
      ]
     },
     "metadata": {
      "needs_background": "light"
     },
     "output_type": "display_data"
    },
    {
     "name": "stdout",
     "output_type": "stream",
     "text": [
      "Clase de la imagen: 3\n",
      "Clasificación: 2\n"
     ]
    }
   ],
   "source": [
    "imagen = X_test[bienmal[1]].reshape(8,8)\n",
    "plt.gray()\n",
    "plt.matshow(imagen) \n",
    "plt.show() \n",
    "print(\"Clase de la imagen: {}\".format(y_test[bienmal[1]]))\n",
    "print(\"Clasificación: {}\".format(predicciones[bienmal[1]]))"
   ]
  },
  {
   "cell_type": "markdown",
   "metadata": {},
   "source": [
    "### Cross Validation"
   ]
  },
  {
   "cell_type": "markdown",
   "metadata": {},
   "source": [
    "Vamos a usar cross validation con el modelo obtenido en el punto anterior. Cross validation es un método para probar cómo de bueno es nuestro modelo. La técnica se basa en partir nuestros datos en partes, iterar sobre los datos un número de veces igual a las partes que tenemos y, en cada iteración, usar una parte de test y el resto de entrenamiento. Cambiando la parte dedicada a test en cada iteración."
   ]
  },
  {
   "cell_type": "code",
   "execution_count": 493,
   "metadata": {},
   "outputs": [],
   "source": [
    "modeloCross = modeloGSCV\n",
    "scores = cross_val_score(modeloCross, X_digitos, y_digitos, cv=3, n_jobs=-1)"
   ]
  },
  {
   "cell_type": "code",
   "execution_count": 494,
   "metadata": {},
   "outputs": [
    {
     "name": "stdout",
     "output_type": "stream",
     "text": [
      "[0.97161937 0.98330551 0.96994992]\n"
     ]
    }
   ],
   "source": [
    "print(scores)"
   ]
  },
  {
   "cell_type": "markdown",
   "metadata": {},
   "source": [
    "Vemos que nuestro modelo tiene buena precisión en todas las partes, por lo que podríamos decir que es un buen modelo."
   ]
  },
  {
   "cell_type": "markdown",
   "metadata": {},
   "source": [
    "### Matriz de confusión"
   ]
  },
  {
   "cell_type": "markdown",
   "metadata": {},
   "source": [
    "La matriz de confusión nos indica si algún elemento ha sido mal clasificado, cuál ha sido la clasificación y cuál era la correcta. Por definición, una matriz de confusión C es tal que C<sub>i,j</sub> es igual al número de observaciones de la clase *i* que han sido predecidas de clase *j*."
   ]
  },
  {
   "cell_type": "code",
   "execution_count": 495,
   "metadata": {},
   "outputs": [],
   "source": [
    "from sklearn.metrics import plot_confusion_matrix"
   ]
  },
  {
   "cell_type": "code",
   "execution_count": 496,
   "metadata": {
    "scrolled": false
   },
   "outputs": [
    {
     "data": {
      "image/png": "[encoded data removed]",
      "text/plain": [
       "<Figure size 432x288 with 2 Axes>"
      ]
     },
     "metadata": {
      "needs_background": "light"
     },
     "output_type": "display_data"
    }
   ],
   "source": [
    "plot_confusion_matrix(modeloGSCV, X_test, y_test, digitos.target_names, cmap=plt.cm.Greens)\n",
    "plt.show()"
   ]
  },
  {
   "cell_type": "markdown",
   "metadata": {},
   "source": [
    "## Clasificador binario de 9 y 4"
   ]
  },
  {
   "cell_type": "markdown",
   "metadata": {},
   "source": [
    "### Preparación de datos"
   ]
  },
  {
   "cell_type": "markdown",
   "metadata": {},
   "source": [
    "Tenemos que coger solo las imágenes que pertenezcan a los números 4 y 9:"
   ]
  },
  {
   "cell_type": "code",
   "execution_count": 497,
   "metadata": {},
   "outputs": [],
   "source": [
    "cont = 0\n",
    "listaxtrain = []\n",
    "listaytrain = []\n",
    "for x in y_digitos:\n",
    "    if x==4 or x==9:\n",
    "        listaxtrain.append(X_digitos[cont])\n",
    "        listaytrain.append(x)\n",
    "    cont+=1"
   ]
  },
  {
   "cell_type": "markdown",
   "metadata": {},
   "source": [
    "Los separamos en train y test:"
   ]
  },
  {
   "cell_type": "code",
   "execution_count": 498,
   "metadata": {},
   "outputs": [],
   "source": [
    "X_train, X_test, y_train, y_test = train_test_split(listaxtrain, listaytrain , train_size=0.8)"
   ]
  },
  {
   "cell_type": "markdown",
   "metadata": {},
   "source": [
    "### Random Forest"
   ]
  },
  {
   "cell_type": "markdown",
   "metadata": {},
   "source": [
    "Vamos a usar un Random Forest. Esta clase de modelo entrena muchos árboles de decisión y usa la media de la predicción de estos para mejorar la predicción final."
   ]
  },
  {
   "cell_type": "code",
   "execution_count": 499,
   "metadata": {},
   "outputs": [],
   "source": [
    "from sklearn.ensemble import RandomForestClassifier"
   ]
  },
  {
   "cell_type": "code",
   "execution_count": 500,
   "metadata": {},
   "outputs": [],
   "source": [
    "params = dict(criterion =['gini', 'entropy'], # Función para determinar la pureza de una división.\n",
    "              n_estimators = [100, 200, 300], # Número de árboles de decisión a entrenar.\n",
    "              max_depth = [15, 16, 17, 18, 19, 20], # Profundidad máxima de los árboles.\n",
    "              min_samples_split = [2, 3, 4, 5], # Número mínimo de ejemplos requeridos para poder dividir un nodo.\n",
    "              min_samples_leaf = [1, 2, 3, 4]) # Número mínimo de ejemplos por hoja."
   ]
  },
  {
   "cell_type": "code",
   "execution_count": 501,
   "metadata": {},
   "outputs": [],
   "source": [
    "forest = GridSearchCV(RandomForestClassifier(n_jobs=-1), params, cv=5, n_jobs=-1)"
   ]
  },
  {
   "cell_type": "code",
   "execution_count": 502,
   "metadata": {},
   "outputs": [
    {
     "data": {
      "text/plain": [
       "GridSearchCV(cv=5, error_score=nan,\n",
       "             estimator=RandomForestClassifier(bootstrap=True, ccp_alpha=0.0,\n",
       "                                              class_weight=None,\n",
       "                                              criterion='gini', max_depth=None,\n",
       "                                              max_features='auto',\n",
       "                                              max_leaf_nodes=None,\n",
       "                                              max_samples=None,\n",
       "                                              min_impurity_decrease=0.0,\n",
       "                                              min_impurity_split=None,\n",
       "                                              min_samples_leaf=1,\n",
       "                                              min_samples_split=2,\n",
       "                                              min_weight_fraction_leaf=0.0,\n",
       "                                              n_estimators=100, n_jobs=-1,\n",
       "                                              oob_score=False,\n",
       "                                              random_state=None, verbose=0,\n",
       "                                              warm_start=False),\n",
       "             iid='deprecated', n_jobs=-1,\n",
       "             param_grid={'criterion': ['gini', 'entropy'],\n",
       "                         'max_depth': [15, 16, 17, 18, 19, 20],\n",
       "                         'min_samples_leaf': [1, 2, 3, 4],\n",
       "                         'min_samples_split': [2, 3, 4, 5],\n",
       "                         'n_estimators': [100, 200, 300]},\n",
       "             pre_dispatch='2*n_jobs', refit=True, return_train_score=False,\n",
       "             scoring=None, verbose=0)"
      ]
     },
     "execution_count": 502,
     "metadata": {},
     "output_type": "execute_result"
    }
   ],
   "source": [
    "forest.fit(X_train, y_train)"
   ]
  },
  {
   "cell_type": "code",
   "execution_count": 503,
   "metadata": {},
   "outputs": [
    {
     "data": {
      "text/plain": [
       "{'criterion': 'gini',\n",
       " 'max_depth': 15,\n",
       " 'min_samples_leaf': 1,\n",
       " 'min_samples_split': 3,\n",
       " 'n_estimators': 200}"
      ]
     },
     "execution_count": 503,
     "metadata": {},
     "output_type": "execute_result"
    }
   ],
   "source": [
    "forest.best_params_"
   ]
  },
  {
   "cell_type": "code",
   "execution_count": 504,
   "metadata": {},
   "outputs": [
    {
     "data": {
      "text/plain": [
       "0.9726027397260274"
      ]
     },
     "execution_count": 504,
     "metadata": {},
     "output_type": "execute_result"
    }
   ],
   "source": [
    "forest.score(X_test, y_test)"
   ]
  },
  {
   "cell_type": "markdown",
   "metadata": {},
   "source": [
    "Tenemos un clasificador con una puntuación muy cercana a 1 (en ocasiones incluso 1), por lo que podemos decir que diferenciamos bien entre el 9 y el 4."
   ]
  },
  {
   "cell_type": "markdown",
   "metadata": {},
   "source": [
    "## Conclusiones"
   ]
  },
  {
   "cell_type": "markdown",
   "metadata": {},
   "source": [
    "Hemos conseguido un buen modelo para clasificar los números de nuestro dataset pero, en el mundo real, podría no servirnos de mucho. Esto se debe a que cada persona escribe los números de una forma distinta, por lo tanto, si le damos a nuestro modelo números escritos por otra persona, puede que no lo clasifique bien.  \n",
    "Vamos a ver esto mediante un ejemplo, cargando una imagen de un número escrito por mí:"
   ]
  },
  {
   "cell_type": "code",
   "execution_count": 505,
   "metadata": {
    "scrolled": false
   },
   "outputs": [
    {
     "data": {
      "image/png": "[encoded data removed]",
      "text/plain": [
       "<Figure size 288x353.781 with 1 Axes>"
      ]
     },
     "metadata": {
      "needs_background": "light"
     },
     "output_type": "display_data"
    }
   ],
   "source": [
    "image1 = plt.imread('1.png')\n",
    "plt.matshow(image1) \n",
    "plt.show() "
   ]
  },
  {
   "cell_type": "markdown",
   "metadata": {},
   "source": [
    "Esta es la imagen real, invertida en color, de nuestro número. Para que nuestro modelo la acepte, tenemos que pasarla a 8x8 (no lo hemos mostrado aquí), lo que nos dejaría la siguiente imagen:"
   ]
  },
  {
   "cell_type": "code",
   "execution_count": 506,
   "metadata": {
    "scrolled": true
   },
   "outputs": [
    {
     "data": {
      "text/plain": [
       "<Figure size 432x288 with 0 Axes>"
      ]
     },
     "metadata": {},
     "output_type": "display_data"
    },
    {
     "data": {
      "image/png": "[encoded data removed]",
      "text/plain": [
       "<Figure size 288x288 with 1 Axes>"
      ]
     },
     "metadata": {
      "needs_background": "light"
     },
     "output_type": "display_data"
    }
   ],
   "source": [
    "image1r = plt.imread('1resized.png')\n",
    "plt.gray()\n",
    "plt.matshow(image1r) \n",
    "plt.show()"
   ]
  },
  {
   "cell_type": "markdown",
   "metadata": {},
   "source": [
    "Sigue habiendo un problema, y es que tenemos una matriz, no un array 1-dimensional (lo que acepta nuestro modelo), así que lo modificamos:"
   ]
  },
  {
   "cell_type": "code",
   "execution_count": 507,
   "metadata": {},
   "outputs": [],
   "source": [
    "image1r = np.asarray([x[i] for x in image1r for i in range(len(image1r[0]))]).reshape(1, -1)"
   ]
  },
  {
   "cell_type": "markdown",
   "metadata": {},
   "source": [
    "Ahora intentamos averiguar qué número es con nuestro modelo (puede acertar o no:"
   ]
  },
  {
   "cell_type": "code",
   "execution_count": 508,
   "metadata": {},
   "outputs": [
    {
     "data": {
      "text/plain": [
       "array([4])"
      ]
     },
     "execution_count": 508,
     "metadata": {},
     "output_type": "execute_result"
    }
   ],
   "source": [
    "modeloGSCV.predict(image1r)"
   ]
  },
  {
   "cell_type": "markdown",
   "metadata": {},
   "source": [
    " "
   ]
  },
  {
   "cell_type": "markdown",
   "metadata": {},
   "source": [
    " "
   ]
  },
  {
   "cell_type": "markdown",
   "metadata": {},
   "source": [
    "# 2. Críticas de cine en IMDB"
   ]
  },
  {
   "cell_type": "code",
   "execution_count": 509,
   "metadata": {},
   "outputs": [],
   "source": [
    "# Para cargar nuestros datos\n",
    "from sklearn.datasets import load_files\n",
    "\n",
    "# Para vectorizar las reviews\n",
    "from sklearn.feature_extraction.text import CountVectorizer\n",
    "from sklearn.feature_extraction.text import TfidfVectorizer\n",
    "\n",
    "# Modelos\n",
    "from sklearn.linear_model import LogisticRegression\n",
    "from sklearn.naive_bayes import MultinomialNB"
   ]
  },
  {
   "cell_type": "markdown",
   "metadata": {},
   "source": [
    "##  Exploración preliminar de las reviews"
   ]
  },
  {
   "cell_type": "markdown",
   "metadata": {},
   "source": [
    "Nuestro dataset está compuesto de reviews sobre películas en IMDB. Cada review tiene asociado un sentimiento, positivo (1) o negativo (0). Lo podemos descargar [aquí](http://ai.stanford.edu/~amaas/data/sentiment/)."
   ]
  },
  {
   "cell_type": "markdown",
   "metadata": {},
   "source": [
    "Cargamos el dataset tanto para train como para test:"
   ]
  },
  {
   "cell_type": "code",
   "execution_count": 510,
   "metadata": {},
   "outputs": [],
   "source": [
    "reviews_train = load_files(\"data/aclImdb/train/\")\n",
    "reviews_test = load_files(\"data/aclImdb/test/\")"
   ]
  },
  {
   "cell_type": "markdown",
   "metadata": {},
   "source": [
    "Hay que tener en cuenta que para hacer este paso hemos tenido que borrar la carpeta ```unsup``` de la carpeta ```aclImdb```. Esta carpeta es para usar con unsupervised learning, lo cual no veremos aquí."
   ]
  },
  {
   "cell_type": "markdown",
   "metadata": {},
   "source": [
    "Tenemos 25000 reviews para entrenar y 25000 para test:"
   ]
  },
  {
   "cell_type": "code",
   "execution_count": 511,
   "metadata": {},
   "outputs": [
    {
     "name": "stdout",
     "output_type": "stream",
     "text": [
      "25000\n"
     ]
    }
   ],
   "source": [
    "print(len(reviews_train.data))"
   ]
  },
  {
   "cell_type": "code",
   "execution_count": 512,
   "metadata": {},
   "outputs": [
    {
     "name": "stdout",
     "output_type": "stream",
     "text": [
      "25000\n"
     ]
    }
   ],
   "source": [
    "print(len(reviews_test.data))"
   ]
  },
  {
   "cell_type": "markdown",
   "metadata": {},
   "source": [
    "Nuestros targets, lo que intentamos predecir de cada review, es neg (negativo, un 0) ó pos (positivo, un 1)."
   ]
  },
  {
   "cell_type": "code",
   "execution_count": 513,
   "metadata": {},
   "outputs": [
    {
     "name": "stdout",
     "output_type": "stream",
     "text": [
      "['neg', 'pos']\n"
     ]
    }
   ],
   "source": [
    "print(reviews_train.target_names)"
   ]
  },
  {
   "cell_type": "markdown",
   "metadata": {},
   "source": [
    "## Limpieza de datos"
   ]
  },
  {
   "cell_type": "code",
   "execution_count": 514,
   "metadata": {},
   "outputs": [],
   "source": [
    "text_train, y_train = reviews_train.data, reviews_train.target\n",
    "text_test, y_test = reviews_test.data, reviews_test.target"
   ]
  },
  {
   "cell_type": "markdown",
   "metadata": {},
   "source": [
    "Quitamos algunas marcas en HTML, para \"limpiar\" los textos. Como los datos los carga en bytes, yo los voy a pasar a string:"
   ]
  },
  {
   "cell_type": "code",
   "execution_count": 515,
   "metadata": {},
   "outputs": [],
   "source": [
    "text_train = [str(doc.replace(b\"<br />\", b\" \"), 'utf-8') for doc in text_train]\n",
    "text_test = [str(doc.replace(b\"<br />\", b\" \"), 'utf-8') for doc in text_test]\n",
    "\n",
    "# En el caso de que se carguen los datos como string, o no queramos\n",
    "# limpiar más luego, ejecutar estar dos líneas en vez de las primeras:\n",
    "#text_train = [doc.replace(<br />\", \" \") for doc in text_train]\n",
    "#text_test = [doc.replace(<br />\", \" \") for doc in text_test]"
   ]
  },
  {
   "cell_type": "markdown",
   "metadata": {},
   "source": [
    "Limpiamos aún más los textos quitando tags y caracteres extraños:"
   ]
  },
  {
   "cell_type": "code",
   "execution_count": 516,
   "metadata": {},
   "outputs": [],
   "source": [
    "import re\n",
    "\n",
    "REPLACE_NO_SPACE = re.compile(\"[.;:!\\'?,\\\"()\\[\\]]\")\n",
    "REPLACE_WITH_SPACE = re.compile(\"(<br\\s*/><br\\s*/>)|(\\-)|(\\/)\")\n",
    "\n",
    "def preprocess_reviews(reviews):\n",
    "    reviews = [REPLACE_NO_SPACE.sub(\"\", line.lower()) for line in reviews]\n",
    "    reviews = [REPLACE_WITH_SPACE.sub(\" \", line) for line in reviews]\n",
    "    \n",
    "    return reviews\n",
    "\n",
    "text_train_clean = preprocess_reviews(text_train)\n",
    "text_test_clean = preprocess_reviews(text_test)"
   ]
  },
  {
   "cell_type": "markdown",
   "metadata": {},
   "source": [
    "## Clasificación de reviews"
   ]
  },
  {
   "cell_type": "markdown",
   "metadata": {},
   "source": [
    "Nuestro objetivo es poder predecir si una review sobre una películas es positiva o negativa. Antes de poder hacer nada con nuestras reviews, vamos a vectorizarlas, es decir, vamos a pasarlas a un vector, de tres maneras distintas:\n",
    "\n",
    "* **CountVectorizer (binario)**: El resultado de aplicar este vectorizador a un corpus (conjunto de textos), es un  vector en el que cada posición corresponde a una palabra del vocabulario, cuyo valor es 0 ó 1 dependiendo si la palabra está o no en el texto que estamos vectorizando. \n",
    "* **CountVectorizer (ocurrencias)**: Es parecido al anterior, solo que en vez de solo decir si está o no, cuenta el número de ocurrencias de dicha palabra en el texto.\n",
    "* **TfIdf**: La forma del vector es la misma que para los anteriores, pero en este caso el valor de cada posición es la relevancia de dicha palabra en el texto (esto se calcula mediante unas fórmulas).\n",
    "\n",
    "Con cada tipo de vectorización usaremos dos modelos distintos para ver qué resultado es el mejor. Los modelos son el de **Regresión Logística** y **MultinomialNB**:\n",
    "\n",
    "* **Regresión Logística**: Modelo lineal.\n",
    "* **MultinomialNB**: Modelo Naive Bayes multinomial. Es un clasificador probabilístico que asume fuerte independencia entre las características."
   ]
  },
  {
   "cell_type": "markdown",
   "metadata": {},
   "source": [
    "### CountVectorizer (binario)"
   ]
  },
  {
   "cell_type": "markdown",
   "metadata": {},
   "source": [
    "Primero tenemos que crear el vectorizador:"
   ]
  },
  {
   "cell_type": "code",
   "execution_count": 517,
   "metadata": {},
   "outputs": [],
   "source": [
    "bvectorizer = CountVectorizer(binary=True, min_df=5, ngram_range=(1,3))"
   ]
  },
  {
   "cell_type": "markdown",
   "metadata": {},
   "source": [
    "Hemos usado ```min_df``` para indicar el mínimo de documentos en los que debe aparecer una palabra para ser considerada. El parámetro ```ngram_range``` nos indica si vamos a considerar 1 palabra sola del texto o más. En este caso consideramos palabras solas, dos palabras y tres palabras. Esto se debe a que puede haber expresiones que nos interesen y que no se puedan apreciar simplemente con modelos unigram."
   ]
  },
  {
   "cell_type": "markdown",
   "metadata": {},
   "source": [
    "Ahora vamos a ajustar el vectorizador a nuestros datos y tranformamos train y test con él:"
   ]
  },
  {
   "cell_type": "code",
   "execution_count": 518,
   "metadata": {},
   "outputs": [],
   "source": [
    "bvectorizer.fit(text_train_clean)\n",
    "X_train_b = bvectorizer.transform(text_train_clean)\n",
    "X_test_b = bvectorizer.transform(text_test_clean)"
   ]
  },
  {
   "cell_type": "markdown",
   "metadata": {},
   "source": [
    "**¡OJO!** Hay que tener en mente que usamos **el mismo** vectorizador para transormar ambos conjuntos porque, de lo contrario, tendremos vocabularios distintos."
   ]
  },
  {
   "cell_type": "markdown",
   "metadata": {},
   "source": [
    "#### Regresión Logística"
   ]
  },
  {
   "cell_type": "markdown",
   "metadata": {},
   "source": [
    "Aplicamos regresión logística (con función Limited-memory BFGS y penalización L2) mediante GridSearch para garantizarnos los mejores parámetros:"
   ]
  },
  {
   "cell_type": "code",
   "execution_count": 519,
   "metadata": {},
   "outputs": [],
   "source": [
    "params = {\n",
    "    'C':np.arange(0.05, 0.5, 0.05)\n",
    "}\n",
    "\n",
    "modeloRL_b = GridSearchCV(LogisticRegression(penalty='l2',solver='lbfgs', n_jobs=-1), params, n_jobs=-1, cv=5)"
   ]
  },
  {
   "cell_type": "code",
   "execution_count": 520,
   "metadata": {},
   "outputs": [
    {
     "data": {
      "text/plain": [
       "GridSearchCV(cv=5, error_score=nan,\n",
       "             estimator=LogisticRegression(C=1.0, class_weight=None, dual=False,\n",
       "                                          fit_intercept=True,\n",
       "                                          intercept_scaling=1, l1_ratio=None,\n",
       "                                          max_iter=100, multi_class='auto',\n",
       "                                          n_jobs=-1, penalty='l2',\n",
       "                                          random_state=None, solver='lbfgs',\n",
       "                                          tol=0.0001, verbose=0,\n",
       "                                          warm_start=False),\n",
       "             iid='deprecated', n_jobs=-1,\n",
       "             param_grid={'C': array([0.05, 0.1 , 0.15, 0.2 , 0.25, 0.3 , 0.35, 0.4 , 0.45])},\n",
       "             pre_dispatch='2*n_jobs', refit=True, return_train_score=False,\n",
       "             scoring=None, verbose=0)"
      ]
     },
     "execution_count": 520,
     "metadata": {},
     "output_type": "execute_result"
    }
   ],
   "source": [
    "modeloRL_b.fit(X_train_b, y_train)"
   ]
  },
  {
   "cell_type": "code",
   "execution_count": 521,
   "metadata": {},
   "outputs": [
    {
     "data": {
      "text/plain": [
       "{'C': 0.2}"
      ]
     },
     "execution_count": 521,
     "metadata": {},
     "output_type": "execute_result"
    }
   ],
   "source": [
    "modeloRL_b.best_params_"
   ]
  },
  {
   "cell_type": "code",
   "execution_count": 522,
   "metadata": {},
   "outputs": [
    {
     "data": {
      "text/plain": [
       "0.89832"
      ]
     },
     "execution_count": 522,
     "metadata": {},
     "output_type": "execute_result"
    }
   ],
   "source": [
    "modeloRL_b.score(X_test_b, y_test)"
   ]
  },
  {
   "cell_type": "markdown",
   "metadata": {},
   "source": [
    "Vamos a usar la review número 27 de nuestro test para hacer predicciones:"
   ]
  },
  {
   "cell_type": "code",
   "execution_count": 523,
   "metadata": {},
   "outputs": [
    {
     "data": {
      "text/plain": [
       "\"There are three main problems with the film. Or rather there are three reasons why it isn't even a contender worthy of more serious consideration.  Firstly, and this was always going to be true, it's not nearly as good as the books. However, at least we could have expected to reflect some of the Sapkowski's wit or depth.  Secondly we have the production. Fantasy movies are, in my opinion, the hardest to produce well. Everything from the props through costumes, scenery, stunts and (especially) CGI is substandard.  Finally, and this is many be very subjective, I just can't quite take the acting seriously. I wasn't brought up in Poland so I can't really judge- it may me my lack of familiarity with films in polish. All the same the lines seem very amateurishly delivered... The casting could be better as well.  In summation, the only possible redeeming feature of this film is the remainder of the plot shining through: not unlike a diamond ring on a rotting cadaver.  On a separate note I heard that the books are coming out in English. I haven't seen them yet but I can't imagine how one would even begin to translate them... I would ask the English-speaking reader to bare this in mind when judging the book.\""
      ]
     },
     "execution_count": 523,
     "metadata": {},
     "output_type": "execute_result"
    }
   ],
   "source": [
    "text_test[27]"
   ]
  },
  {
   "cell_type": "markdown",
   "metadata": {},
   "source": [
    "Predecimos con nuestro modelo:"
   ]
  },
  {
   "cell_type": "code",
   "execution_count": 524,
   "metadata": {},
   "outputs": [
    {
     "name": "stdout",
     "output_type": "stream",
     "text": [
      "La review tiene clasificación 0\n"
     ]
    }
   ],
   "source": [
    "print(\"La review tiene clasificación \" + str(modeloRL_b.predict(X_test_b[27])[0]))"
   ]
  },
  {
   "cell_type": "markdown",
   "metadata": {},
   "source": [
    "#### MultinomialNB"
   ]
  },
  {
   "cell_type": "markdown",
   "metadata": {},
   "source": [
    "Procedemos de la misma manera que con regresión logística:"
   ]
  },
  {
   "cell_type": "code",
   "execution_count": 525,
   "metadata": {
    "scrolled": true
   },
   "outputs": [
    {
     "name": "stderr",
     "output_type": "stream",
     "text": [
      "/home/theesmox/anaconda3/lib/python3.7/site-packages/joblib/externals/loky/process_executor.py:706: UserWarning: A worker stopped while some jobs were given to the executor. This can be caused by a too short worker timeout or by a memory leak.\n",
      "  \"timeout or by a memory leak.\", UserWarning\n"
     ]
    },
    {
     "data": {
      "text/plain": [
       "GridSearchCV(cv=5, error_score=nan,\n",
       "             estimator=MultinomialNB(alpha=1.0, class_prior=None,\n",
       "                                     fit_prior=True),\n",
       "             iid='deprecated', n_jobs=-1,\n",
       "             param_grid={'alpha': array([ 1. ,  1.5,  2. ,  2.5,  3. ,  3.5,  4. ,  4.5,  5. ,  5.5,  6. ,\n",
       "        6.5,  7. ,  7.5,  8. ,  8.5,  9. ,  9.5, 10. , 10.5, 11. , 11.5,\n",
       "       12. , 12.5, 13. , 13.5, 14. , 14.5, 15. , 15.5, 16. , 16.5, 17. ,\n",
       "       17.5, 18. , 18.5, 19. , 19.5, 20. , 20.5, 21. , 21.5, 22. , 22.5,\n",
       "       23. , 23.5, 24. , 24.5, 25. , 25.5, 26. , 26.5, 27. , 27.5, 28. ,\n",
       "       28.5, 29. , 29.5])},\n",
       "             pre_dispatch='2*n_jobs', refit=True, return_train_score=False,\n",
       "             scoring=None, verbose=0)"
      ]
     },
     "execution_count": 525,
     "metadata": {},
     "output_type": "execute_result"
    }
   ],
   "source": [
    "params = {\n",
    "    'alpha':np.arange(1., 30., 0.5) # Parámetro de smoothing (para no tener probabilidades a 0).\n",
    "}\n",
    "\n",
    "modeloMNB_b = GridSearchCV(MultinomialNB(), params, n_jobs=-1, cv=5)\n",
    "modeloMNB_b.fit(X_train_b, y_train)"
   ]
  },
  {
   "cell_type": "code",
   "execution_count": 526,
   "metadata": {},
   "outputs": [
    {
     "data": {
      "text/plain": [
       "{'alpha': 1.0}"
      ]
     },
     "execution_count": 526,
     "metadata": {},
     "output_type": "execute_result"
    }
   ],
   "source": [
    "modeloMNB_b.best_params_"
   ]
  },
  {
   "cell_type": "code",
   "execution_count": 527,
   "metadata": {},
   "outputs": [
    {
     "data": {
      "text/plain": [
       "0.87948"
      ]
     },
     "execution_count": 527,
     "metadata": {},
     "output_type": "execute_result"
    }
   ],
   "source": [
    "modeloMNB_b.score(X_test_b, y_test)"
   ]
  },
  {
   "cell_type": "code",
   "execution_count": 528,
   "metadata": {},
   "outputs": [
    {
     "data": {
      "text/plain": [
       "'La review tiene clasificación 0'"
      ]
     },
     "execution_count": 528,
     "metadata": {},
     "output_type": "execute_result"
    }
   ],
   "source": [
    "(\"La review tiene clasificación \" + str(modeloMNB_b.predict(X_test_b[27])[0]))"
   ]
  },
  {
   "cell_type": "markdown",
   "metadata": {},
   "source": [
    "### CountVectorizer (ocurrencias)"
   ]
  },
  {
   "cell_type": "markdown",
   "metadata": {},
   "source": [
    "El proceso no difiere de CountVectorizer binario. Lo único distinto es que al crear el vectorizador, **no** debemos poner el parámetro ```binary=True```."
   ]
  },
  {
   "cell_type": "code",
   "execution_count": 529,
   "metadata": {},
   "outputs": [],
   "source": [
    "ovectorizer = CountVectorizer(min_df=5, ngram_range=(1,3))\n",
    "ovectorizer.fit(text_train_clean)\n",
    "X_train_o = ovectorizer.transform(text_train_clean)\n",
    "X_test_o = ovectorizer.transform(text_test_clean)"
   ]
  },
  {
   "cell_type": "code",
   "execution_count": 530,
   "metadata": {},
   "outputs": [
    {
     "data": {
      "text/plain": [
       "{'zero': 248696,\n",
       " 'day': 49674,\n",
       " 'leads': 116615,\n",
       " 'you': 246537,\n",
       " 'to': 215781,\n",
       " 'think': 210537,\n",
       " 'even': 61409,\n",
       " 're': 162843,\n",
       " 'why': 239830,\n",
       " 'two': 224627,\n",
       " 'boys': 33569,\n",
       " 'young': 247948,\n",
       " 'men': 126745,\n",
       " 'would': 244746,\n",
       " 'do': 54191,\n",
       " 'what': 235955,\n",
       " 'they': 209080,\n",
       " 'did': 52040,\n",
       " 'commit': 44859,\n",
       " 'mutual': 133808,\n",
       " 'suicide': 186246,\n",
       " 'via': 228686,\n",
       " 'slaughtering': 177884,\n",
       " 'their': 206769,\n",
       " 'classmates': 43207,\n",
       " 'it': 106557,\n",
       " 'captures': 39391,\n",
       " 'must': 133646,\n",
       " 'be': 26674,\n",
       " 'beyond': 31376,\n",
       " 'bizarre': 31963,\n",
       " 'mode': 128406,\n",
       " 'of': 140113,\n",
       " 'being': 29819,\n",
       " 'for': 71312,\n",
       " 'humans': 93611,\n",
       " 'who': 238553,\n",
       " 'have': 84197,\n",
       " 'decided': 50346,\n",
       " 'withdraw': 242989,\n",
       " 'from': 74251,\n",
       " 'common': 44886,\n",
       " 'civility': 42954,\n",
       " 'in': 95760,\n",
       " 'order': 150995,\n",
       " 'define': 50615,\n",
       " 'own': 153202,\n",
       " 'world': 244216,\n",
       " 'coupled': 47507,\n",
       " 'destruction': 51574,\n",
       " 'is': 101579,\n",
       " 'not': 137541,\n",
       " 'perfect': 155355,\n",
       " 'movie': 130494,\n",
       " 'but': 35064,\n",
       " 'given': 77811,\n",
       " 'money': 128676,\n",
       " 'time': 214884,\n",
       " 'the': 192876,\n",
       " 'filmmaker': 68873,\n",
       " 'and': 9676,\n",
       " 'actors': 3170,\n",
       " 'had': 81798,\n",
       " 'remarkable': 165510,\n",
       " 'product': 160402,\n",
       " 'terms': 189162,\n",
       " 'explaining': 63830,\n",
       " 'motives': 130303,\n",
       " 'actions': 3046,\n",
       " 'murderers': 133393,\n",
       " 'better': 30964,\n",
       " 'than': 189398,\n",
       " 'elephant': 58812,\n",
       " 'film': 67157,\n",
       " 'that': 189852,\n",
       " 'gets': 77045,\n",
       " 'under': 225301,\n",
       " 'our': 151915,\n",
       " 'skin': 177746,\n",
       " 'far': 65333,\n",
       " 'almost': 6667,\n",
       " 'anything': 18336,\n",
       " 'are': 19068,\n",
       " 'likely': 119201,\n",
       " 'see': 171822,\n",
       " 'flawed': 70641,\n",
       " 'honest': 91952,\n",
       " 'with': 241155,\n",
       " 'terrible': 189186,\n",
       " 'honesty': 92003,\n",
       " 'zero day': 248704,\n",
       " 'leads you': 116649,\n",
       " 'you to': 247627,\n",
       " 'to think': 220890,\n",
       " 'think even': 210569,\n",
       " 're think': 162876,\n",
       " 'think why': 210832,\n",
       " 'two boys': 224653,\n",
       " 'young men': 248043,\n",
       " 'men would': 126816,\n",
       " 'would do': 244907,\n",
       " 'do what': 54561,\n",
       " 'what they': 236491,\n",
       " 'they did': 209340,\n",
       " 'their classmates': 206858,\n",
       " 'it captures': 107023,\n",
       " 'what must': 236357,\n",
       " 'must be': 133657,\n",
       " 'mode of': 128408,\n",
       " 'of being': 140550,\n",
       " 'being for': 29908,\n",
       " 'for two': 72909,\n",
       " 'humans who': 93625,\n",
       " 'who have': 238936,\n",
       " 'have decided': 84532,\n",
       " 'decided to': 50358,\n",
       " 'in order': 97539,\n",
       " 'order to': 151010,\n",
       " 'to define': 217058,\n",
       " 'their own': 207102,\n",
       " 'it is': 107722,\n",
       " 'is not': 104032,\n",
       " 'not perfect': 138426,\n",
       " 'perfect movie': 155398,\n",
       " 'movie but': 130747,\n",
       " 'but given': 35478,\n",
       " 'given what': 77896,\n",
       " 'money time': 128750,\n",
       " 'time the': 215276,\n",
       " 'the filmmaker': 197392,\n",
       " 'filmmaker and': 68874,\n",
       " 'and actors': 9753,\n",
       " 'actors had': 3253,\n",
       " 'had it': 81986,\n",
       " 'is remarkable': 104710,\n",
       " 'in terms': 98089,\n",
       " 'terms of': 189166,\n",
       " 'of explaining': 141409,\n",
       " 'explaining the': 63833,\n",
       " 'the motives': 200484,\n",
       " 'motives and': 130304,\n",
       " 'and actions': 9750,\n",
       " 'actions of': 3054,\n",
       " 'of the': 144092,\n",
       " 'the two': 205557,\n",
       " 'two young': 224945,\n",
       " 'is better': 102123,\n",
       " 'better than': 31139,\n",
       " 'being film': 29904,\n",
       " 'film that': 68423,\n",
       " 'that gets': 190567,\n",
       " 'is far': 102845,\n",
       " 'far far': 65381,\n",
       " 'far better': 65362,\n",
       " 'better film': 31015,\n",
       " 'film than': 68420,\n",
       " 'than almost': 189422,\n",
       " 'almost anything': 6684,\n",
       " 'anything you': 18497,\n",
       " 'you are': 246577,\n",
       " 'are likely': 19687,\n",
       " 'likely to': 119209,\n",
       " 'to see': 219782,\n",
       " 'flawed but': 70644,\n",
       " 'honest with': 91977,\n",
       " 'with terrible': 242445,\n",
       " 'you to think': 247643,\n",
       " 'do what they': 54565,\n",
       " 'what they did': 236497,\n",
       " 'what must be': 236358,\n",
       " 'have decided to': 84533,\n",
       " 'in order to': 97542,\n",
       " 'it is not': 107883,\n",
       " 'is not perfect': 104106,\n",
       " 'not perfect movie': 138429,\n",
       " 'perfect movie but': 155399,\n",
       " 'it is remarkable': 107927,\n",
       " 'in terms of': 98090,\n",
       " 'of explaining the': 141410,\n",
       " 'and actions of': 9751,\n",
       " 'actions of the': 3055,\n",
       " 'of the two': 145070,\n",
       " 'the two young': 205606,\n",
       " 'it is better': 107752,\n",
       " 'is better than': 102129,\n",
       " 'terms of being': 189168,\n",
       " 'film that gets': 68435,\n",
       " 'it is far': 107803,\n",
       " 'better film than': 31017,\n",
       " 'are likely to': 19688,\n",
       " 'likely to see': 119213,\n",
       " 'words': 243829,\n",
       " 'cant': 39054,\n",
       " 'describe': 51256,\n",
       " 'how': 92831,\n",
       " 'bad': 25476,\n",
       " 'this': 210998,\n",
       " 'explain': 63790,\n",
       " 'by': 36903,\n",
       " 'writing': 245599,\n",
       " 'only': 149336,\n",
       " 'too': 221802,\n",
       " 'yourself': 248518,\n",
       " 'get': 76614,\n",
       " 'at': 23308,\n",
       " 'grip': 81069,\n",
       " 'horrible': 92267,\n",
       " 'really': 163508,\n",
       " 'can': 38319,\n",
       " 'recommend': 164550,\n",
       " 'there': 208169,\n",
       " 'so': 178459,\n",
       " 'many': 124266,\n",
       " 'clichés': 43424,\n",
       " 'mistakes': 128286,\n",
       " 'all': 5577,\n",
       " 'other': 151361,\n",
       " 'negative': 135283,\n",
       " 'things': 210342,\n",
       " 'imagine': 95295,\n",
       " 'here': 88473,\n",
       " 'will': 240273,\n",
       " 'just': 112544,\n",
       " 'make': 123050,\n",
       " 'cry': 48613,\n",
       " 'start': 182901,\n",
       " 'technical': 188583,\n",
       " 'first': 69902,\n",
       " 'lot': 121281,\n",
       " 'regarding': 165006,\n",
       " 'airplane': 5312,\n",
       " 'wont': 243652,\n",
       " 'list': 119549,\n",
       " 'them': 207312,\n",
       " 'mention': 126861,\n",
       " 'coloring': 44085,\n",
       " 'plane': 156925,\n",
       " 'didnt': 52352,\n",
       " 'manage': 124056,\n",
       " 'show': 176031,\n",
       " 'an': 8500,\n",
       " 'airliner': 5310,\n",
       " 'colors': 44089,\n",
       " 'fictional': 66886,\n",
       " 'airline': 5309,\n",
       " 'instead': 100159,\n",
       " 'used': 227202,\n",
       " '747': 945,\n",
       " 'painted': 153578,\n",
       " 'original': 151096,\n",
       " 'boeing': 32595,\n",
       " 'very': 227941,\n",
       " 'plot': 157539,\n",
       " 'stupid': 185449,\n",
       " 'has': 83317,\n",
       " 'been': 28861,\n",
       " 'done': 55535,\n",
       " 'times': 215443,\n",
       " 'before': 29386,\n",
       " 'much': 132829,\n",
       " 'ridiculous': 167055,\n",
       " 'moments': 128577,\n",
       " 'lost': 121205,\n",
       " 'count': 47353,\n",
       " 'early': 57833,\n",
       " 'also': 7025,\n",
       " 'was': 230436,\n",
       " 'on': 146868,\n",
       " 'guys': 81700,\n",
       " 'side': 176666,\n",
       " 'because': 28364,\n",
       " 'good': 78959,\n",
       " 'were': 235247,\n",
       " 'executive': 63406,\n",
       " 'decision': 50422,\n",
       " 'should': 175762,\n",
       " 'without': 243040,\n",
       " 'doubt': 56193,\n",
       " 'youre': 248411,\n",
       " 'choice': 42381,\n",
       " 'over': 152726,\n",
       " 'one': 148398,\n",
       " 'turbulence': 224137,\n",
       " 'movies': 132398,\n",
       " 'fact': 64394,\n",
       " 'every': 62328,\n",
       " 'words cant': 243839,\n",
       " 'cant describe': 39107,\n",
       " 'describe how': 51258,\n",
       " 'how bad': 92857,\n",
       " 'bad this': 25884,\n",
       " 'this movie': 212296,\n",
       " 'movie is': 131222,\n",
       " 'is cant': 102243,\n",
       " 'cant explain': 39128,\n",
       " 'explain it': 63799,\n",
       " 'it by': 106996,\n",
       " 'by writing': 37812,\n",
       " 'only you': 149951,\n",
       " 'you have': 247061,\n",
       " 'have too': 85303,\n",
       " 'too see': 222085,\n",
       " 'see it': 171958,\n",
       " 'it for': 107388,\n",
       " 'for yourself': 73055,\n",
       " 'yourself to': 248560,\n",
       " 'to get': 217751,\n",
       " 'get at': 76645,\n",
       " 'grip of': 81070,\n",
       " 'of how': 142128,\n",
       " 'how horrible': 92997,\n",
       " 'horrible movie': 92294,\n",
       " 'movie really': 131703,\n",
       " 'really can': 163577,\n",
       " 'can be': 38363,\n",
       " 'be not': 27504,\n",
       " 'not that': 138689,\n",
       " 'that recommend': 191652,\n",
       " 'recommend you': 164606,\n",
       " 'to do': 217177,\n",
       " 'do that': 54476,\n",
       " 'that there': 192134,\n",
       " 'there are': 208198,\n",
       " 'are so': 20127,\n",
       " 'so many': 178962,\n",
       " 'many clichés': 124296,\n",
       " 'mistakes and': 128287,\n",
       " 'and all': 9846,\n",
       " 'all other': 6044,\n",
       " 'other negative': 151585,\n",
       " 'things you': 210535,\n",
       " 'you can': 246681,\n",
       " 'can imagine': 38602,\n",
       " 'here that': 88645,\n",
       " 'that will': 192545,\n",
       " 'will just': 240506,\n",
       " 'just make': 113006,\n",
       " 'make you': 123392,\n",
       " 'you cry': 246846,\n",
       " 'cry to': 48630,\n",
       " 'to start': 220148,\n",
       " 'start with': 182968,\n",
       " 'with the': 242458,\n",
       " 'the technical': 204949,\n",
       " 'first there': 70244,\n",
       " 'are lot': 19706,\n",
       " 'lot of': 121334,\n",
       " 'of mistakes': 142817,\n",
       " 'regarding the': 165008,\n",
       " 'the airplane': 193334,\n",
       " 'them here': 207437,\n",
       " 'here but': 88515,\n",
       " 'but just': 35816,\n",
       " 'mention the': 126891,\n",
       " 'the plane': 202060,\n",
       " 'they didnt': 209355,\n",
       " 'didnt even': 52399,\n",
       " 'even manage': 61660,\n",
       " 'manage to': 124057,\n",
       " 'to show': 219950,\n",
       " 'show an': 176045,\n",
       " 'in the': 98130,\n",
       " 'the colors': 195182,\n",
       " 'colors of': 44094,\n",
       " 'but instead': 35668,\n",
       " 'painted in': 153580,\n",
       " 'the original': 201470,\n",
       " 'very bad': 227967,\n",
       " 'bad the': 25851,\n",
       " 'the plot': 202110,\n",
       " 'plot is': 157656,\n",
       " 'is stupid': 105241,\n",
       " 'stupid and': 185451,\n",
       " 'and has': 12086,\n",
       " 'has been': 83374,\n",
       " 'been done': 28978,\n",
       " 'done many': 55602,\n",
       " 'many times': 124519,\n",
       " 'times before': 215467,\n",
       " 'much much': 133075,\n",
       " 'much better': 132883,\n",
       " 'better there': 31179,\n",
       " 'ridiculous moments': 167073,\n",
       " 'moments here': 128599,\n",
       " 'that lost': 191254,\n",
       " 'lost count': 121218,\n",
       " 'count of': 47363,\n",
       " 'of it': 142279,\n",
       " 'it really': 108576,\n",
       " 'really early': 163675,\n",
       " 'also was': 7492,\n",
       " 'was on': 231761,\n",
       " 'on the': 147745,\n",
       " 'the bad': 193763,\n",
       " 'bad guys': 25650,\n",
       " 'all the': 6197,\n",
       " 'the time': 205175,\n",
       " 'time in': 215087,\n",
       " 'the movie': 200504,\n",
       " 'movie because': 130699,\n",
       " 'because the': 28578,\n",
       " 'the good': 198108,\n",
       " 'good guys': 79254,\n",
       " 'guys were': 81743,\n",
       " 'were so': 235673,\n",
       " 'so stupid': 179202,\n",
       " 'executive decision': 63407,\n",
       " 'without doubt': 243061,\n",
       " 'doubt be': 56203,\n",
       " 'over this': 152932,\n",
       " 'this one': 212661,\n",
       " 'one even': 148601,\n",
       " 'even the': 61791,\n",
       " 'movies are': 132431,\n",
       " 'are better': 19205,\n",
       " 'better in': 31043,\n",
       " 'in fact': 96564,\n",
       " 'every other': 62429,\n",
       " 'other movie': 151568,\n",
       " 'movie in': 131191,\n",
       " 'the world': 206421,\n",
       " 'world is': 244280,\n",
       " 'than this': 189725,\n",
       " 'cant describe how': 39108,\n",
       " 'describe how bad': 51259,\n",
       " 'how bad this': 92862,\n",
       " 'bad this movie': 25887,\n",
       " 'this movie is': 212422,\n",
       " 'see it for': 171970,\n",
       " 'it for yourself': 107421,\n",
       " 'to get at': 217761,\n",
       " 'recommend you to': 164609,\n",
       " 'you to do': 247632,\n",
       " 'to do that': 217223,\n",
       " 'that there are': 192135,\n",
       " 'there are so': 208268,\n",
       " 'are so many': 20134,\n",
       " 'so many clichés': 178965,\n",
       " 'and all other': 9859,\n",
       " 'you can imagine': 246720,\n",
       " 'that will just': 192554,\n",
       " 'just make you': 113009,\n",
       " 'make you cry': 123397,\n",
       " 'to start with': 220156,\n",
       " 'start with the': 182970,\n",
       " 'first there are': 70245,\n",
       " 'there are lot': 208238,\n",
       " 'are lot of': 19709,\n",
       " 'of the plane': 144790,\n",
       " 'they didnt even': 209358,\n",
       " 'the colors of': 195185,\n",
       " 'in the original': 98541,\n",
       " 'very bad the': 227973,\n",
       " 'bad the plot': 25857,\n",
       " 'the plot is': 202150,\n",
       " 'plot is stupid': 157685,\n",
       " 'is stupid and': 105242,\n",
       " 'and has been': 12089,\n",
       " 'has been done': 83387,\n",
       " 'been done many': 28984,\n",
       " 'done many times': 55603,\n",
       " 'many times before': 124522,\n",
       " 'much much better': 133076,\n",
       " 'better there are': 31180,\n",
       " 'lost count of': 121219,\n",
       " 'of it really': 142317,\n",
       " 'was on the': 231767,\n",
       " 'on the bad': 147759,\n",
       " 'the bad guys': 193768,\n",
       " 'all the time': 6311,\n",
       " 'the time in': 205191,\n",
       " 'time in the': 215097,\n",
       " 'in the movie': 98500,\n",
       " 'the movie because': 200528,\n",
       " 'movie because the': 130705,\n",
       " 'the good guys': 198118,\n",
       " 'over this one': 152934,\n",
       " 'this one even': 212689,\n",
       " 'better in fact': 31044,\n",
       " 'movie in the': 131207,\n",
       " 'in the world': 98766,\n",
       " 'the world is': 206441,\n",
       " 'better than this': 31163,\n",
       " 'than this one': 189735,\n",
       " 'everyone': 62557,\n",
       " 'plays': 157301,\n",
       " 'part': 153957,\n",
       " 'pretty': 159585,\n",
       " 'well': 234653,\n",
       " 'little': 119661,\n",
       " 'nice': 136183,\n",
       " 'belushi': 30412,\n",
       " 'chance': 40823,\n",
       " 'live': 119980,\n",
       " 'his': 89900,\n",
       " 'life': 117859,\n",
       " 'differently': 52873,\n",
       " 'ends': 59783,\n",
       " 'up': 226308,\n",
       " 'realizing': 163502,\n",
       " 'he': 85603,\n",
       " 'going': 78681,\n",
       " 'as': 21038,\n",
       " 'or': 150256,\n",
       " 'maybe': 125494,\n",
       " 'shows': 176455,\n",
       " 'us': 226970,\n",
       " 'we': 233867,\n",
       " 'ought': 151907,\n",
       " 'take': 187614,\n",
       " 'advantage': 4188,\n",
       " 'opportunities': 150184,\n",
       " 'ones': 149276,\n",
       " 'cannot': 38970,\n",
       " 'if': 94273,\n",
       " 'video': 228784,\n",
       " 'around': 20685,\n",
       " '10': 10,\n",
       " 'investment': 101358,\n",
       " 'plays their': 157361,\n",
       " 'their part': 207129,\n",
       " 'part pretty': 154028,\n",
       " 'pretty well': 159753,\n",
       " 'well in': 234887,\n",
       " 'in this': 98839,\n",
       " 'this little': 212190,\n",
       " 'nice movie': 136221,\n",
       " 'gets the': 77189,\n",
       " 'the chance': 194777,\n",
       " 'chance to': 40853,\n",
       " 'to live': 218660,\n",
       " 'part of': 154003,\n",
       " 'of his': 141951,\n",
       " 'his life': 90639,\n",
       " 'but ends': 35363,\n",
       " 'ends up': 59809,\n",
       " 'realizing that': 163505,\n",
       " 'that what': 192516,\n",
       " 'what he': 236146,\n",
       " 'he had': 86034,\n",
       " 'had was': 82294,\n",
       " 'was going': 231168,\n",
       " 'going to': 78776,\n",
       " 'to be': 216092,\n",
       " 'be just': 27348,\n",
       " 'just as': 112583,\n",
       " 'as good': 21541,\n",
       " 'good or': 79456,\n",
       " 'or maybe': 150592,\n",
       " 'maybe even': 125508,\n",
       " 'even better': 61459,\n",
       " 'better the': 31171,\n",
       " 'movie shows': 131787,\n",
       " 'shows us': 176539,\n",
       " 'us that': 227078,\n",
       " 'that we': 192462,\n",
       " 'ought to': 151908,\n",
       " 'to take': 220307,\n",
       " 'take advantage': 187617,\n",
       " 'advantage of': 4190,\n",
       " 'the opportunities': 201440,\n",
       " 'we have': 234083,\n",
       " 'have not': 84908,\n",
       " 'not the': 138712,\n",
       " 'the ones': 201323,\n",
       " 'ones we': 149319,\n",
       " 'we do': 234000,\n",
       " 'do not': 54371,\n",
       " 'cannot have': 39007,\n",
       " 'have if': 84733,\n",
       " 'if can': 94304,\n",
       " 'can get': 38546,\n",
       " 'get this': 76976,\n",
       " 'movie on': 131612,\n",
       " 'on video': 148197,\n",
       " 'video for': 228806,\n",
       " 'around 10': 20686,\n",
       " '10 it': 56,\n",
       " 'it be': 106872,\n",
       " 'be an': 26729,\n",
       " 'well in this': 234893,\n",
       " 'in this little': 98885,\n",
       " 'gets the chance': 77191,\n",
       " 'the chance to': 194779,\n",
       " 'chance to live': 40861,\n",
       " 'part of his': 154008,\n",
       " 'of his life': 142013,\n",
       " 'but ends up': 35364,\n",
       " 'that what he': 192517,\n",
       " 'what he had': 236155,\n",
       " 'was going to': 231174,\n",
       " 'going to be': 78777,\n",
       " 'to be just': 216279,\n",
       " 'be just as': 27350,\n",
       " 'just as good': 112588,\n",
       " 'as good or': 21549,\n",
       " 'or maybe even': 150593,\n",
       " 'even better the': 61464,\n",
       " 'better the movie': 31173,\n",
       " 'the movie shows': 200707,\n",
       " 'movie shows us': 131791,\n",
       " 'shows us that': 176540,\n",
       " 'us that we': 227083,\n",
       " 'to take advantage': 220308,\n",
       " 'take advantage of': 187618,\n",
       " 'advantage of the': 4194,\n",
       " 'we have not': 234101,\n",
       " 'the ones we': 201330,\n",
       " 'we do not': 234004,\n",
       " 'if can get': 94305,\n",
       " 'get this movie': 76979,\n",
       " 'this movie on': 212468,\n",
       " 'highly': 89256,\n",
       " 'talented': 188086,\n",
       " 'filmmakers': 68887,\n",
       " 'germany': 76589,\n",
       " 'now': 139333,\n",
       " 'none': 137345,\n",
       " 'associated': 23223,\n",
       " 'producers': 160371,\n",
       " 'actually': 3505,\n",
       " 'invest': 101330,\n",
       " 'something': 180515,\n",
       " 'like': 118290,\n",
       " 'could': 46874,\n",
       " 'made': 122387,\n",
       " 'films': 68918,\n",
       " 'budget': 34595,\n",
       " 'garbage': 76010,\n",
       " 'its': 109682,\n",
       " 'entertaining': 60437,\n",
       " 'seven': 173973,\n",
       " 'grown': 81236,\n",
       " 'running': 168559,\n",
       " 'dwarfs': 57612,\n",
       " 'pretending': 159557,\n",
       " 'funny': 75452,\n",
       " 'though': 213797,\n",
       " 'producer': 160355,\n",
       " 'happens': 82923,\n",
       " 'oldest': 146797,\n",
       " 'guy': 81574,\n",
       " 'bunch': 34837,\n",
       " 'playing': 157238,\n",
       " 'youngest': 248118,\n",
       " 'dwarf': 57610,\n",
       " 'filled': 67130,\n",
       " 'scream': 171059,\n",
       " 'captions': 39352,\n",
       " 'saying': 169976,\n",
       " 'supposed': 186646,\n",
       " 'laugh': 116178,\n",
       " 'hard': 83045,\n",
       " 'believe': 30212,\n",
       " 'craps': 47876,\n",
       " 'comedy': 44346,\n",
       " 'people': 154875,\n",
       " 'stood': 183989,\n",
       " 'left': 117123,\n",
       " 'cinema': 42726,\n",
       " '30': 689,\n",
       " 'minutes': 127894,\n",
       " 'into': 100828,\n",
       " 'same': 169112,\n",
       " 'wasting': 232883,\n",
       " 'my': 133814,\n",
       " 'pain': 153520,\n",
       " 'of highly': 141929,\n",
       " 'talented filmmakers': 188099,\n",
       " 'actors in': 3264,\n",
       " 'in germany': 96750,\n",
       " 'none of': 137356,\n",
       " 'of them': 145181,\n",
       " 'them are': 207352,\n",
       " 'associated with': 23224,\n",
       " 'with this': 242784,\n",
       " 'movie why': 132277,\n",
       " 'why in': 239926,\n",
       " 'money in': 128709,\n",
       " 'in something': 97963,\n",
       " 'something like': 180623,\n",
       " 'like this': 118960,\n",
       " 'this this': 213227,\n",
       " 'this you': 213547,\n",
       " 'you could': 246814,\n",
       " 'could have': 47020,\n",
       " 'have made': 84823,\n",
       " 'made 10': 122388,\n",
       " '10 good': 44,\n",
       " 'good films': 79216,\n",
       " 'films with': 69250,\n",
       " 'the budget': 194436,\n",
       " 'budget of': 34648,\n",
       " 'of this': 145311,\n",
       " 'this garbage': 211734,\n",
       " 'garbage its': 76019,\n",
       " 'its not': 110335,\n",
       " 'not entertaining': 137857,\n",
       " 'entertaining to': 60497,\n",
       " 'to have': 217974,\n",
       " 'grown men': 81240,\n",
       " 'men running': 126791,\n",
       " 'running around': 168564,\n",
       " 'around as': 20697,\n",
       " 'pretending to': 159558,\n",
       " 'be funny': 27169,\n",
       " 'funny what': 75640,\n",
       " 'what is': 236189,\n",
       " 'is funny': 102990,\n",
       " 'funny though': 75626,\n",
       " 'though is': 213867,\n",
       " 'is that': 105364,\n",
       " 'that the': 191971,\n",
       " 'the films': 197411,\n",
       " 'producer who': 160368,\n",
       " 'who happens': 238893,\n",
       " 'happens to': 82956,\n",
       " 'be the': 27873,\n",
       " 'the oldest': 201275,\n",
       " 'guy of': 81635,\n",
       " 'the bunch': 194466,\n",
       " 'bunch is': 34840,\n",
       " 'is playing': 104419,\n",
       " 'playing the': 157279,\n",
       " 'the youngest': 206675,\n",
       " 'the film': 197088,\n",
       " 'film is': 67809,\n",
       " 'is filled': 102880,\n",
       " 'filled with': 67138,\n",
       " 'with moments': 242020,\n",
       " 'moments that': 128627,\n",
       " 'that scream': 191733,\n",
       " 'scream for': 171064,\n",
       " 'youre supposed': 248493,\n",
       " 'supposed to': 186649,\n",
       " 'to laugh': 218557,\n",
       " 'now its': 139428,\n",
       " 'its hard': 110119,\n",
       " 'hard to': 83112,\n",
       " 'to believe': 216509,\n",
       " 'believe that': 30271,\n",
       " 'that this': 192228,\n",
       " 'be comedy': 26919,\n",
       " 'many people': 124441,\n",
       " 'people actually': 154879,\n",
       " 'stood up': 184001,\n",
       " 'up and': 226328,\n",
       " 'and left': 13149,\n",
       " 'left the': 117198,\n",
       " 'the cinema': 195021,\n",
       " '30 minutes': 694,\n",
       " 'minutes into': 127935,\n",
       " 'into the': 101055,\n",
       " 'movie should': 131779,\n",
       " 'should have': 175869,\n",
       " 'have done': 84543,\n",
       " 'done the': 55632,\n",
       " 'the same': 203261,\n",
       " 'instead of': 100176,\n",
       " 'of wasting': 145719,\n",
       " 'wasting my': 232888,\n",
       " 'my time': 134378,\n",
       " 'none of them': 137365,\n",
       " 'of them are': 145185,\n",
       " 'associated with this': 23227,\n",
       " 'with this movie': 242798,\n",
       " 'this movie why': 212578,\n",
       " 'why in the': 239927,\n",
       " 'something like this': 180627,\n",
       " 'like this this': 119003,\n",
       " 'you could have': 246829,\n",
       " 'could have made': 47042,\n",
       " 'films with the': 69251,\n",
       " 'with the budget': 242492,\n",
       " 'the budget of': 194441,\n",
       " 'budget of this': 34651,\n",
       " 'of this garbage': 145335,\n",
       " 'pretending to be': 159559,\n",
       " 'to be funny': 216234,\n",
       " 'what is funny': 236198,\n",
       " 'though is that': 213868,\n",
       " 'is that the': 105404,\n",
       " 'that the films': 192027,\n",
       " 'who happens to': 238894,\n",
       " 'happens to be': 82957,\n",
       " 'to be the': 216426,\n",
       " 'guy of the': 81636,\n",
       " 'of the bunch': 144216,\n",
       " 'is playing the': 104421,\n",
       " 'the film is': 197213,\n",
       " 'film is filled': 67857,\n",
       " 'is filled with': 102881,\n",
       " 'youre supposed to': 248494,\n",
       " 'its hard to': 110122,\n",
       " 'hard to believe': 83115,\n",
       " 'to believe that': 216520,\n",
       " 'believe that this': 30286,\n",
       " 'supposed to be': 186650,\n",
       " 'to be comedy': 216155,\n",
       " 'up and left': 226341,\n",
       " 'and left the': 13151,\n",
       " 'left the cinema': 117199,\n",
       " '30 minutes into': 697,\n",
       " 'minutes into the': 127937,\n",
       " 'into the movie': 101098,\n",
       " 'the movie should': 200705,\n",
       " 'movie should have': 131781,\n",
       " 'should have done': 175874,\n",
       " 'have done the': 84556,\n",
       " 'done the same': 55633,\n",
       " 'instead of wasting': 100208,\n",
       " 'wasting my time': 232889,\n",
       " 'ive': 110975,\n",
       " 'evidence': 62801,\n",
       " 'confirmed': 45684,\n",
       " 'suspicions': 187189,\n",
       " 'kids': 114081,\n",
       " '14': 247,\n",
       " '22': 635,\n",
       " 'put': 161391,\n",
       " 'dvd': 57494,\n",
       " 'titanic': 215685,\n",
       " 'fantastic': 65268,\n",
       " 'state': 183097,\n",
       " 'art': 20892,\n",
       " 'mega': 126570,\n",
       " 'screen': 171092,\n",
       " 'home': 91830,\n",
       " 'entertainment': 60505,\n",
       " 'type': 224965,\n",
       " 'deal': 49991,\n",
       " 'seen': 172584,\n",
       " 'moment': 128528,\n",
       " 'kate': 113574,\n",
       " 'leo': 117360,\n",
       " 'celine': 40491,\n",
       " 'most': 129784,\n",
       " 'felt': 66422,\n",
       " 'whole': 239596,\n",
       " 'shortly': 175640,\n",
       " 'after': 4407,\n",
       " 'epic': 60709,\n",
       " 'started': 182974,\n",
       " 'restless': 166346,\n",
       " 'some': 179719,\n",
       " 'asking': 23055,\n",
       " 'others': 151785,\n",
       " 'call': 37957,\n",
       " 'when': 236758,\n",
       " 'iceberg': 93976,\n",
       " 'appears': 18844,\n",
       " 'hour': 92634,\n",
       " 'half': 82403,\n",
       " 'girls': 77616,\n",
       " 'still': 183567,\n",
       " 'shouting': 176016,\n",
       " 'stampede': 182538,\n",
       " 'followed': 71133,\n",
       " 'came': 38072,\n",
       " 'back': 25218,\n",
       " 'sinking': 177418,\n",
       " 'sat': 169439,\n",
       " 'open': 149984,\n",
       " 'mouthed': 130374,\n",
       " 'outs': 152657,\n",
       " 'thought': 214010,\n",
       " 'burst': 34952,\n",
       " 'scene': 170250,\n",
       " 'hours': 92676,\n",
       " 'waiting': 229686,\n",
       " 'bloody': 32371,\n",
       " 'thing': 210143,\n",
       " 'sink': 177411,\n",
       " 'about': 1260,\n",
       " 'rest': 166302,\n",
       " 'dr': 56486,\n",
       " 'instance': 100139,\n",
       " 'similar': 176927,\n",
       " 'takes': 187857,\n",
       " 'place': 156733,\n",
       " 'within': 242999,\n",
       " 'period': 155763,\n",
       " 'teaches': 188480,\n",
       " 'spit': 182034,\n",
       " 'look': 120630,\n",
       " 'faces': 64358,\n",
       " 'hands': 82697,\n",
       " 'supposedly': 186673,\n",
       " 'de': 49858,\n",
       " 'la': 115349,\n",
       " 'class': 43062,\n",
       " 'dining': 53021,\n",
       " 'room': 168121,\n",
       " 'ship': 175336,\n",
       " 'historical': 91364,\n",
       " 'details': 51609,\n",
       " 'find': 69464,\n",
       " 'storyline': 184685,\n",
       " 'thin': 210123,\n",
       " 'introduce': 101246,\n",
       " 'guns': 81536,\n",
       " 'shootings': 175503,\n",
       " 'real': 163121,\n",
       " 'standards': 182610,\n",
       " 'efforts': 58553,\n",
       " 'focus': 71007,\n",
       " 'special': 181636,\n",
       " 'effects': 58404,\n",
       " 'opening': 150028,\n",
       " 'week': 234529,\n",
       " 'went': 235179,\n",
       " 'become': 28705,\n",
       " 'highest': 89226,\n",
       " 'grossing': 81134,\n",
       " 'know': 114765,\n",
       " 'ive just': 111033,\n",
       " 'just had': 112875,\n",
       " 'had the': 82179,\n",
       " 'the evidence': 196740,\n",
       " 'evidence that': 62807,\n",
       " 'confirmed my': 45686,\n",
       " 'my suspicions': 134357,\n",
       " 'bunch of': 34841,\n",
       " 'of kids': 142462,\n",
       " 'put on': 161447,\n",
       " 'the dvd': 196258,\n",
       " 'dvd of': 57542,\n",
       " 'of titanic': 145475,\n",
       " 'state of': 183103,\n",
       " 'the art': 193529,\n",
       " 'only two': 149886,\n",
       " 'two of': 224817,\n",
       " 'them had': 207430,\n",
       " 'had actually': 81805,\n",
       " 'actually seen': 3686,\n",
       " 'seen it': 172709,\n",
       " 'it before': 106905,\n",
       " 'before but': 29403,\n",
       " 'but they': 36479,\n",
       " 'they all': 209091,\n",
       " 'all had': 5831,\n",
       " 'had seen': 82133,\n",
       " 'seen the': 172813,\n",
       " 'the moment': 200222,\n",
       " 'moment of': 128549,\n",
       " 'of kate': 142450,\n",
       " 'leo and': 117361,\n",
       " 'and celine': 10509,\n",
       " 'times that': 215548,\n",
       " 'that most': 191370,\n",
       " 'most of': 129999,\n",
       " 'felt they': 66488,\n",
       " 'they had': 209499,\n",
       " 'the whole': 206219,\n",
       " 'whole movie': 239646,\n",
       " 'shortly after': 175641,\n",
       " 'after the': 4638,\n",
       " 'the epic': 196661,\n",
       " 'they started': 209821,\n",
       " 'started to': 183003,\n",
       " 'some of': 180064,\n",
       " 'asking the': 23062,\n",
       " 'the others': 201620,\n",
       " 'us when': 227123,\n",
       " 'when the': 237114,\n",
       " 'the iceberg': 198764,\n",
       " 'over an': 152764,\n",
       " 'an hour': 9159,\n",
       " 'hour and': 92636,\n",
       " 'and half': 12042,\n",
       " 'movie only': 131629,\n",
       " 'only the': 149817,\n",
       " 'two girls': 224728,\n",
       " 'girls who': 77664,\n",
       " 'who had': 238878,\n",
       " 'movie before': 130713,\n",
       " 'were still': 235688,\n",
       " 'still there': 183812,\n",
       " 'there they': 208548,\n",
       " 'all came': 5693,\n",
       " 'came back': 38089,\n",
       " 'back to': 25346,\n",
       " 'see the': 172105,\n",
       " 'the sinking': 204076,\n",
       " 'sinking of': 177419,\n",
       " 'the titanic': 205241,\n",
       " 'open mouthed': 150002,\n",
       " 'and far': 11539,\n",
       " 'so just': 178925,\n",
       " 'just like': 112962,\n",
       " 'thought when': 214135,\n",
       " 'movie first': 130997,\n",
       " 'burst into': 34953,\n",
       " 'the scene': 203429,\n",
       " 'scene what': 170415,\n",
       " 'is this': 105675,\n",
       " 'one and': 148422,\n",
       " 'half hours': 82441,\n",
       " 'waiting for': 229689,\n",
       " 'for the': 72534,\n",
       " ...}"
      ]
     },
     "execution_count": 530,
     "metadata": {},
     "output_type": "execute_result"
    }
   ],
   "source": [
    "ovectorizer.vocabulary_"
   ]
  },
  {
   "cell_type": "code",
   "execution_count": 531,
   "metadata": {},
   "outputs": [
    {
     "data": {
      "text/plain": [
       "248835"
      ]
     },
     "execution_count": 531,
     "metadata": {},
     "output_type": "execute_result"
    }
   ],
   "source": [
    "len(ovectorizer.vocabulary_)"
   ]
  },
  {
   "cell_type": "markdown",
   "metadata": {},
   "source": [
    "Vamos a crear una función para ver cuál es la palabra más repetida (esto tendría más sentido si solo aplicasemos unigram, pero nos podemos hacer una idea de todas formas):"
   ]
  },
  {
   "cell_type": "code",
   "execution_count": 532,
   "metadata": {},
   "outputs": [],
   "source": [
    "def palabraMasRepetida(vocabulario):\n",
    "    \"\"\"\n",
    "    Recibe: Un diccionario con el vocabulario en la forma ('palabra': num_ocurrencias).\n",
    "    Devuelve: La palabra que más se repite, y su número de ocurrencias.\n",
    "    \"\"\"\n",
    "    c = (\"\", 0)\n",
    "    for x in ovectorizer.vocabulary_:\n",
    "        if ovectorizer.vocabulary_[x]>c[1] and x:\n",
    "            c = (x, ovectorizer.vocabulary_[x])\n",
    "    return c"
   ]
  },
  {
   "cell_type": "code",
   "execution_count": 533,
   "metadata": {},
   "outputs": [
    {
     "name": "stdout",
     "output_type": "stream",
     "text": [
      "('émigré', 248834)\n"
     ]
    }
   ],
   "source": [
    "print(palabraMasRepetida(ovectorizer.vocabulary_))"
   ]
  },
  {
   "cell_type": "markdown",
   "metadata": {},
   "source": [
    "#### Regresión Logística"
   ]
  },
  {
   "cell_type": "code",
   "execution_count": 534,
   "metadata": {},
   "outputs": [
    {
     "name": "stderr",
     "output_type": "stream",
     "text": [
      "[Parallel(n_jobs=-1)]: Using backend LokyBackend with 12 concurrent workers.\n",
      "[Parallel(n_jobs=-1)]: Done   1 out of   1 | elapsed:   16.8s finished\n"
     ]
    },
    {
     "data": {
      "text/plain": [
       "LogisticRegression(C=0.05, class_weight=None, dual=False, fit_intercept=True,\n",
       "                   intercept_scaling=1, l1_ratio=None, max_iter=500,\n",
       "                   multi_class='auto', n_jobs=-1, penalty='l2',\n",
       "                   random_state=None, solver='lbfgs', tol=0.0001, verbose=3,\n",
       "                   warm_start=False)"
      ]
     },
     "execution_count": 534,
     "metadata": {},
     "output_type": "execute_result"
    }
   ],
   "source": [
    "modeloRL_o = LogisticRegression(C=0.05, solver='lbfgs', penalty='l2',max_iter=500, multi_class='auto', n_jobs=-1, verbose=3)\n",
    "modeloRL_o.fit(X_train_o, y_train)"
   ]
  },
  {
   "cell_type": "code",
   "execution_count": 535,
   "metadata": {},
   "outputs": [
    {
     "data": {
      "text/plain": [
       "0.89888"
      ]
     },
     "execution_count": 535,
     "metadata": {},
     "output_type": "execute_result"
    }
   ],
   "source": [
    "modeloRL_o.score(X_test_o, y_test)"
   ]
  },
  {
   "cell_type": "code",
   "execution_count": 536,
   "metadata": {},
   "outputs": [
    {
     "name": "stdout",
     "output_type": "stream",
     "text": [
      "La review tiene clasificación 0\n"
     ]
    }
   ],
   "source": [
    "print(\"La review tiene clasificación \" + str(modeloRL_o.predict(X_test_o[27])[0]))"
   ]
  },
  {
   "cell_type": "markdown",
   "metadata": {},
   "source": [
    "#### MultinomialNB"
   ]
  },
  {
   "cell_type": "code",
   "execution_count": 537,
   "metadata": {},
   "outputs": [
    {
     "data": {
      "text/plain": [
       "MultinomialNB(alpha=1.0, class_prior=None, fit_prior=True)"
      ]
     },
     "execution_count": 537,
     "metadata": {},
     "output_type": "execute_result"
    }
   ],
   "source": [
    "modeloMNB_o = MultinomialNB(alpha=1.)\n",
    "modeloMNB_o.fit(X_train_o, y_train)"
   ]
  },
  {
   "cell_type": "code",
   "execution_count": 538,
   "metadata": {},
   "outputs": [
    {
     "data": {
      "text/plain": [
       "0.87032"
      ]
     },
     "execution_count": 538,
     "metadata": {},
     "output_type": "execute_result"
    }
   ],
   "source": [
    "modeloMNB_o.score(X_test_o, y_test)"
   ]
  },
  {
   "cell_type": "code",
   "execution_count": 539,
   "metadata": {},
   "outputs": [
    {
     "name": "stdout",
     "output_type": "stream",
     "text": [
      "La review tiene clasificación 0\n"
     ]
    }
   ],
   "source": [
    "print(\"La review tiene clasificación \" + str(modeloMNB_o.predict(X_test_o[27])[0]))"
   ]
  },
  {
   "cell_type": "markdown",
   "metadata": {},
   "source": [
    "### TfIdf"
   ]
  },
  {
   "cell_type": "markdown",
   "metadata": {},
   "source": [
    "Procedemos exactamente igual que con los dos anteriores."
   ]
  },
  {
   "cell_type": "code",
   "execution_count": 540,
   "metadata": {},
   "outputs": [],
   "source": [
    "tfidf = TfidfVectorizer(min_df=5, ngram_range=(1,3))\n",
    "tfidf.fit(text_train_clean)\n",
    "X_train_t = tfidf.transform(text_train_clean)\n",
    "X_test_t = tfidf.transform(text_test_clean)"
   ]
  },
  {
   "cell_type": "markdown",
   "metadata": {},
   "source": [
    "#### Regresión Logística"
   ]
  },
  {
   "cell_type": "code",
   "execution_count": 541,
   "metadata": {},
   "outputs": [
    {
     "name": "stderr",
     "output_type": "stream",
     "text": [
      "[Parallel(n_jobs=-1)]: Using backend LokyBackend with 12 concurrent workers.\n",
      "[Parallel(n_jobs=-1)]: Done   1 out of   1 | elapsed:    1.1s finished\n"
     ]
    },
    {
     "data": {
      "text/plain": [
       "LogisticRegression(C=0.05, class_weight=None, dual=False, fit_intercept=True,\n",
       "                   intercept_scaling=1, l1_ratio=None, max_iter=500,\n",
       "                   multi_class='auto', n_jobs=-1, penalty='l2',\n",
       "                   random_state=None, solver='lbfgs', tol=0.0001, verbose=3,\n",
       "                   warm_start=False)"
      ]
     },
     "execution_count": 541,
     "metadata": {},
     "output_type": "execute_result"
    }
   ],
   "source": [
    "modeloRL_t = LogisticRegression(C=0.05, solver='lbfgs', penalty='l2',max_iter=500, multi_class='auto', n_jobs=-1, verbose=3)\n",
    "modeloRL_t.fit(X_train_t, y_train)"
   ]
  },
  {
   "cell_type": "code",
   "execution_count": 542,
   "metadata": {},
   "outputs": [
    {
     "data": {
      "text/plain": [
       "0.83452"
      ]
     },
     "execution_count": 542,
     "metadata": {},
     "output_type": "execute_result"
    }
   ],
   "source": [
    "modeloRL_t.score(X_test_t, y_test)"
   ]
  },
  {
   "cell_type": "code",
   "execution_count": 543,
   "metadata": {},
   "outputs": [
    {
     "name": "stdout",
     "output_type": "stream",
     "text": [
      "La review tiene clasificación 0\n"
     ]
    }
   ],
   "source": [
    "print(\"La review tiene clasificación \" + str(modeloRL_t.predict(X_test_t[27])[0]))"
   ]
  },
  {
   "cell_type": "markdown",
   "metadata": {},
   "source": [
    "#### MultiomialNB"
   ]
  },
  {
   "cell_type": "code",
   "execution_count": 544,
   "metadata": {},
   "outputs": [
    {
     "data": {
      "text/plain": [
       "MultinomialNB(alpha=1.0, class_prior=None, fit_prior=True)"
      ]
     },
     "execution_count": 544,
     "metadata": {},
     "output_type": "execute_result"
    }
   ],
   "source": [
    "modeloMNB_t = MultinomialNB(alpha=1.)\n",
    "modeloMNB_t.fit(X_train_t, y_train)"
   ]
  },
  {
   "cell_type": "code",
   "execution_count": 545,
   "metadata": {},
   "outputs": [
    {
     "data": {
      "text/plain": [
       "0.8796"
      ]
     },
     "execution_count": 545,
     "metadata": {},
     "output_type": "execute_result"
    }
   ],
   "source": [
    "modeloMNB_t.score(X_test_t, y_test)"
   ]
  },
  {
   "cell_type": "code",
   "execution_count": 546,
   "metadata": {
    "scrolled": true
   },
   "outputs": [
    {
     "name": "stdout",
     "output_type": "stream",
     "text": [
      "La review tiene clasificación 0\n"
     ]
    }
   ],
   "source": [
    "print(\"La review tiene clasificación \" + str(modeloMNB_t.predict(X_test_t[27])[0]))"
   ]
  },
  {
   "cell_type": "markdown",
   "metadata": {},
   "source": [
    "## Conclusión"
   ]
  },
  {
   "cell_type": "markdown",
   "metadata": {},
   "source": [
    "El modelo que mejor resultado nos ha proporcionado (puede variar) ha sido regresión logística con CountVectorizer (ocurrencias). Esto puede deberse a que puede haber frases o palabras que se repitan mucho en las reviews buenas por ejemplo, y cada vez que nuestro modelo la vea, habrá muchas posibilidades de que la clasifique como buena."
   ]
  },
  {
   "cell_type": "markdown",
   "metadata": {},
   "source": [
    " "
   ]
  },
  {
   "cell_type": "markdown",
   "metadata": {},
   "source": [
    "  "
   ]
  },
  {
   "cell_type": "markdown",
   "metadata": {},
   "source": [
    "# 3. Boston dataset"
   ]
  },
  {
   "cell_type": "markdown",
   "metadata": {},
   "source": [
    "Es un dataset que viene dentro de sklearn, por lo que para cargarlo solo necesitamos el método ```load_boston()```"
   ]
  },
  {
   "cell_type": "code",
   "execution_count": 547,
   "metadata": {},
   "outputs": [],
   "source": [
    "from sklearn.datasets import load_boston"
   ]
  },
  {
   "cell_type": "code",
   "execution_count": 548,
   "metadata": {},
   "outputs": [],
   "source": [
    "boston = load_boston()"
   ]
  },
  {
   "cell_type": "markdown",
   "metadata": {},
   "source": [
    "## Descripción del dataset"
   ]
  },
  {
   "cell_type": "markdown",
   "metadata": {},
   "source": [
    "Es un dataset de viviendas en boston. Cada vivienda tiene varias características que pueden aumentar o disminuir el precio de la misma. Para una descripción más detallada:"
   ]
  },
  {
   "cell_type": "code",
   "execution_count": 549,
   "metadata": {},
   "outputs": [
    {
     "name": "stdout",
     "output_type": "stream",
     "text": [
      ".. _boston_dataset:\n",
      "\n",
      "Boston house prices dataset\n",
      "---------------------------\n",
      "\n",
      "**Data Set Characteristics:**  \n",
      "\n",
      "    :Number of Instances: 506 \n",
      "\n",
      "    :Number of Attributes: 13 numeric/categorical predictive. Median Value (attribute 14) is usually the target.\n",
      "\n",
      "    :Attribute Information (in order):\n",
      "        - CRIM     per capita crime rate by town\n",
      "        - ZN       proportion of residential land zoned for lots over 25,000 sq.ft.\n",
      "        - INDUS    proportion of non-retail business acres per town\n",
      "        - CHAS     Charles River dummy variable (= 1 if tract bounds river; 0 otherwise)\n",
      "        - NOX      nitric oxides concentration (parts per 10 million)\n",
      "        - RM       average number of rooms per dwelling\n",
      "        - AGE      proportion of owner-occupied units built prior to 1940\n",
      "        - DIS      weighted distances to five Boston employment centres\n",
      "        - RAD      index of accessibility to radial highways\n",
      "        - TAX      full-value property-tax rate per $10,000\n",
      "        - PTRATIO  pupil-teacher ratio by town\n",
      "        - B        1000(Bk - 0.63)^2 where Bk is the proportion of blacks by town\n",
      "        - LSTAT    % lower status of the population\n",
      "        - MEDV     Median value of owner-occupied homes in $1000's\n",
      "\n",
      "    :Missing Attribute Values: None\n",
      "\n",
      "    :Creator: Harrison, D. and Rubinfeld, D.L.\n",
      "\n",
      "This is a copy of UCI ML housing dataset.\n",
      "https://archive.ics.uci.edu/ml/machine-learning-databases/housing/\n",
      "\n",
      "\n",
      "This dataset was taken from the StatLib library which is maintained at Carnegie Mellon University.\n",
      "\n",
      "The Boston house-price data of Harrison, D. and Rubinfeld, D.L. 'Hedonic\n",
      "prices and the demand for clean air', J. Environ. Economics & Management,\n",
      "vol.5, 81-102, 1978.   Used in Belsley, Kuh & Welsch, 'Regression diagnostics\n",
      "...', Wiley, 1980.   N.B. Various transformations are used in the table on\n",
      "pages 244-261 of the latter.\n",
      "\n",
      "The Boston house-price data has been used in many machine learning papers that address regression\n",
      "problems.   \n",
      "     \n",
      ".. topic:: References\n",
      "\n",
      "   - Belsley, Kuh & Welsch, 'Regression diagnostics: Identifying Influential Data and Sources of Collinearity', Wiley, 1980. 244-261.\n",
      "   - Quinlan,R. (1993). Combining Instance-Based and Model-Based Learning. In Proceedings on the Tenth International Conference of Machine Learning, 236-243, University of Massachusetts, Amherst. Morgan Kaufmann.\n",
      "\n"
     ]
    }
   ],
   "source": [
    "print(boston.DESCR)"
   ]
  },
  {
   "cell_type": "markdown",
   "metadata": {},
   "source": [
    "## Predicción de precios"
   ]
  },
  {
   "cell_type": "markdown",
   "metadata": {},
   "source": [
    "Nuestro objetivo es predecir el precio para una vivienda dadas sus características. Esto puede servir para ponerle el precio justo a una propiedad para venderla en poco tiempo y por una cantiad de dinero aceptable."
   ]
  },
  {
   "cell_type": "markdown",
   "metadata": {},
   "source": [
    "Antes de nada, como nuestros datos están en rangos distintos (algunos porcentajes y algunos números grandes), hay que normalizar/estandarizar. Para este propósito usaré ```MinMaxScaler()``` el cual normaliza según el mínimo y el máximo de cada característica:"
   ]
  },
  {
   "cell_type": "code",
   "execution_count": 592,
   "metadata": {},
   "outputs": [],
   "source": [
    "from sklearn.preprocessing import MinMaxScaler"
   ]
  },
  {
   "cell_type": "markdown",
   "metadata": {},
   "source": [
    "Creamos el normalizador:"
   ]
  },
  {
   "cell_type": "code",
   "execution_count": 593,
   "metadata": {},
   "outputs": [],
   "source": [
    "minmax = MinMaxScaler() # Por defecto el rango en el que nos dejará cada característica es (0, 1)"
   ]
  },
  {
   "cell_type": "markdown",
   "metadata": {},
   "source": [
    "Lo ajustamos a nuestros datos y los transformamos:"
   ]
  },
  {
   "cell_type": "code",
   "execution_count": 594,
   "metadata": {},
   "outputs": [],
   "source": [
    "minmax.fit(boston.data)\n",
    "X = minmax.transform(boston.data)"
   ]
  },
  {
   "cell_type": "markdown",
   "metadata": {},
   "source": [
    "Y ahora, como siempre, dividimos en test y en train:"
   ]
  },
  {
   "cell_type": "code",
   "execution_count": 595,
   "metadata": {},
   "outputs": [],
   "source": [
    "X_train, X_test, y_train, y_test = train_test_split(X, boston.target, train_size=0.8)"
   ]
  },
  {
   "cell_type": "markdown",
   "metadata": {},
   "source": [
    "Vemos cuáles son las características (están explicadas en la descripción del dataset):"
   ]
  },
  {
   "cell_type": "code",
   "execution_count": 596,
   "metadata": {},
   "outputs": [
    {
     "name": "stdout",
     "output_type": "stream",
     "text": [
      "['CRIM' 'ZN' 'INDUS' 'CHAS' 'NOX' 'RM' 'AGE' 'DIS' 'RAD' 'TAX' 'PTRATIO'\n",
      " 'B' 'LSTAT']\n"
     ]
    }
   ],
   "source": [
    "print(boston.feature_names)"
   ]
  },
  {
   "cell_type": "markdown",
   "metadata": {},
   "source": [
    "Para mantenerlo simple, vamos a usar una regresión lineal, ya que suele funcionar bien en estos casos:"
   ]
  },
  {
   "cell_type": "code",
   "execution_count": 597,
   "metadata": {},
   "outputs": [],
   "source": [
    "from sklearn.linear_model import LinearRegression"
   ]
  },
  {
   "cell_type": "code",
   "execution_count": 598,
   "metadata": {},
   "outputs": [],
   "source": [
    "modeloLR = LinearRegression(normalize=True)"
   ]
  },
  {
   "cell_type": "code",
   "execution_count": 599,
   "metadata": {},
   "outputs": [
    {
     "data": {
      "text/plain": [
       "LinearRegression(copy_X=True, fit_intercept=True, n_jobs=None, normalize=True)"
      ]
     },
     "execution_count": 599,
     "metadata": {},
     "output_type": "execute_result"
    }
   ],
   "source": [
    "modeloLR.fit(X_train, y_train)"
   ]
  },
  {
   "cell_type": "markdown",
   "metadata": {},
   "source": [
    "Veamos qué puntuación tiene nuestro modelo (```score()``` en este caso usa la métrica R cuadrado, que calcula cómo de lejos está nuestra predicción de la realidad. El resultado óptimo devuelve 1.):"
   ]
  },
  {
   "cell_type": "code",
   "execution_count": 600,
   "metadata": {},
   "outputs": [
    {
     "data": {
      "text/plain": [
       "0.7443245538059939"
      ]
     },
     "execution_count": 600,
     "metadata": {},
     "output_type": "execute_result"
    }
   ],
   "source": [
    "modeloLR.score(X_test, y_test)"
   ]
  },
  {
   "cell_type": "markdown",
   "metadata": {},
   "source": [
    "Esta puntuación no está mal para un modelo base. Posibles mejoras sería hacer feature selection ya que habrá muchas características innecesarias que estamos considerando. Vamos a ver en una gráfica cómo de lejos quedan nuestras predicciones del valor real"
   ]
  },
  {
   "cell_type": "code",
   "execution_count": 601,
   "metadata": {},
   "outputs": [],
   "source": [
    "predicciones = modeloLR.predict(X_test)"
   ]
  },
  {
   "cell_type": "code",
   "execution_count": 602,
   "metadata": {},
   "outputs": [
    {
     "data": {
      "image/png": "[encoded data removed]",
      "text/plain": [
       "<Figure size 432x288 with 1 Axes>"
      ]
     },
     "metadata": {
      "needs_background": "light"
     },
     "output_type": "display_data"
    }
   ],
   "source": [
    "plt.title(\"Esperado vs predecido\")\n",
    "plt.plot(y_test, color='blue', linewidth=2)\n",
    "plt.plot(predicciones, color='red', linewidth=2)\n",
    "plt.legend([\"y_test\", \"predicción\"])\n",
    "\n",
    "\n",
    "\n",
    "plt.xticks(())\n",
    "plt.yticks([x for x in range(0,60, 10)], [str(x) for x in range(0,60, 10)])\n",
    "\n",
    "plt.show()"
   ]
  },
  {
   "cell_type": "markdown",
   "metadata": {},
   "source": [
    "Como vemos, en algunas partes nuestro modelo se ajusta realmente bien, pero en otros dista bastante de la realidad."
   ]
  },
  {
   "cell_type": "markdown",
   "metadata": {},
   "source": [
    " "
   ]
  },
  {
   "cell_type": "markdown",
   "metadata": {},
   "source": [
    " "
   ]
  },
  {
   "cell_type": "markdown",
   "metadata": {},
   "source": [
    "# Fuentes"
   ]
  },
  {
   "cell_type": "markdown",
   "metadata": {},
   "source": [
    "* [Scale, standarize or normalize with scikit-learn](https://towardsdatascience.com/scale-standardize-or-normalize-with-scikit-learn-6ccc7d176a02)\n",
    "* [IMBD reviews - towardsdatascience](https://towardsdatascience.com/imdb-reviews-or-8143fe57c825)\n",
    "* [Linear SVC example](https://pythonprogramming.net/linear-svc-example-scikit-learn-svm-python/#:~:text=The%20objective%20of%20a%20Linear,%2C%20or%20categorizes%2C%20your%20data.&text=Other%20than%20the%20visualization%20packages,and%20numpy%20for%20array%20conversion.)\n",
    "* [Sentyment analysis with python](https://towardsdatascience.com/sentiment-analysis-with-python-part-1-5ce197074184)\n",
    "* [A begginers guide to linear regression](https://towardsdatascience.com/a-beginners-guide-to-linear-regression-in-python-with-scikit-learn-83a8f7ae2b4f)"
   ]
  }
 ],
 "metadata": {
  "kernelspec": {
   "display_name": "Python 3",
   "language": "python",
   "name": "python3"
  },
  "language_info": {
   "codemirror_mode": {
    "name": "ipython",
    "version": 3
   },
   "file_extension": ".py",
   "mimetype": "text/x-python",
   "name": "python",
   "nbconvert_exporter": "python",
   "pygments_lexer": "ipython3",
   "version": "3.7.6"
  }
 },
 "nbformat": 4,
 "nbformat_minor": 4
}
