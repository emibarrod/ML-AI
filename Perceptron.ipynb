{
 "cells": [
  {
   "cell_type": "code",
   "execution_count": 49,
   "metadata": {},
   "outputs": [],
   "source": [
    "import random as rd"
   ]
  },
  {
   "cell_type": "code",
   "execution_count": 50,
   "metadata": {},
   "outputs": [],
   "source": [
    "class Perceptron:\n",
    "    def __init__(self,n):\n",
    "        self.pesos = [rd.uniform(-1,1) for _ in range(n+1)]\n",
    "    def __str__(self):\n",
    "        return str(self.pesos)"
   ]
  },
  {
   "cell_type": "code",
   "execution_count": 51,
   "metadata": {},
   "outputs": [
    {
     "name": "stdout",
     "output_type": "stream",
     "text": [
      "[-0.9820169071802525, -0.10718347115007698, 0.5071085599358878, 0.5501970888950509]\n"
     ]
    }
   ],
   "source": [
    "print(Perceptron(3))"
   ]
  },
  {
   "cell_type": "code",
   "execution_count": 52,
   "metadata": {},
   "outputs": [],
   "source": [
    "def umbral(x):\n",
    "    if x > 0:\n",
    "        return 1\n",
    "    else:\n",
    "        return 0"
   ]
  },
  {
   "cell_type": "code",
   "execution_count": 53,
   "metadata": {},
   "outputs": [],
   "source": [
    "def algoritmo(perceptron, conjunto, learning_rate, it):\n",
    "    cont = 0\n",
    "    while cont < it: #Aqui podriamos poner una condicion mas para que no pare hasta que clasifique sin error\n",
    "        for i in range(len(conjunto[0])):\n",
    "            v_x = [-1]+[p for p in conjunto[i][:-1]]\n",
    "            y = conjunto[i][-1]\n",
    "            o = umbral(sum([v_x[k]*perceptron.pesos[k] for k in range(len(v_x))]))\n",
    "            for j in range(len(perceptron.pesos)-1):\n",
    "                perceptron.pesos[j] = perceptron.pesos[j] + learning_rate*(y-o)*v_x[j]\n",
    "        cont+=1\n",
    "    return perceptron.pesos"
   ]
  },
  {
   "cell_type": "code",
   "execution_count": 54,
   "metadata": {},
   "outputs": [],
   "source": [
    "entrenamiento = [[1,1,1],[1,0,0],[0,1,0],[0,0,0]] # Para entrenar la funcion AND"
   ]
  },
  {
   "cell_type": "code",
   "execution_count": 55,
   "metadata": {},
   "outputs": [
    {
     "name": "stdout",
     "output_type": "stream",
     "text": [
      "[-0.18283684906616915, 0.9272537412420092, -0.14342946364953613, -0.23091565697421523]\n"
     ]
    }
   ],
   "source": [
    "perceptron1 = Perceptron(3)\n",
    "print(perceptron1)"
   ]
  },
  {
   "cell_type": "code",
   "execution_count": 56,
   "metadata": {},
   "outputs": [
    {
     "data": {
      "text/plain": [
       "[0.41716315093383083,\n",
       " 0.32725374124200934,\n",
       " 0.1565705363504639,\n",
       " -0.23091565697421523]"
      ]
     },
     "execution_count": 56,
     "metadata": {},
     "output_type": "execute_result"
    }
   ],
   "source": [
    "algoritmo(perceptron1, entrenamiento, 0.1, 100000)"
   ]
  },
  {
   "cell_type": "code",
   "execution_count": 57,
   "metadata": {},
   "outputs": [],
   "source": [
    "def predecir(perceptron, dato): #Funcion para clasificar\n",
    "    dato = [-1] + dato\n",
    "    return umbral(sum([dato[i]*perceptron.pesos[i] for i in range(len(dato))]))"
   ]
  },
  {
   "cell_type": "code",
   "execution_count": 58,
   "metadata": {},
   "outputs": [
    {
     "data": {
      "text/plain": [
       "1"
      ]
     },
     "execution_count": 58,
     "metadata": {},
     "output_type": "execute_result"
    }
   ],
   "source": [
    "predecir(perceptron1,[1,1])"
   ]
  },
  {
   "cell_type": "code",
   "execution_count": null,
   "metadata": {},
   "outputs": [],
   "source": []
  },
  {
   "cell_type": "code",
   "execution_count": 59,
   "metadata": {},
   "outputs": [],
   "source": [
    "entrenamiento2 = [[1,1,1],[1,0,1],[0,0,0]] #Para entrenar la funcion OR\n",
    "                                           #Si entreno incluyendo el ejemplo [0,1,1] no clasifica bien luego"
   ]
  },
  {
   "cell_type": "code",
   "execution_count": 60,
   "metadata": {},
   "outputs": [],
   "source": [
    "perceptron2 = Perceptron(3)"
   ]
  },
  {
   "cell_type": "code",
   "execution_count": 61,
   "metadata": {},
   "outputs": [
    {
     "data": {
      "text/plain": [
       "[0.07758941396882979,\n",
       " 0.1563353650353028,\n",
       " 0.7506884967873333,\n",
       " -0.41050410403102777]"
      ]
     },
     "execution_count": 61,
     "metadata": {},
     "output_type": "execute_result"
    }
   ],
   "source": [
    "algoritmo(perceptron2, entrenamiento2, 0.1, 5000)"
   ]
  },
  {
   "cell_type": "code",
   "execution_count": 67,
   "metadata": {},
   "outputs": [
    {
     "data": {
      "text/plain": [
       "1"
      ]
     },
     "execution_count": 67,
     "metadata": {},
     "output_type": "execute_result"
    }
   ],
   "source": [
    "predecir(perceptron2,[0,1]) "
   ]
  },
  {
   "cell_type": "code",
   "execution_count": null,
   "metadata": {},
   "outputs": [],
   "source": []
  }
 ],
 "metadata": {
  "kernelspec": {
   "display_name": "Python 3",
   "language": "python",
   "name": "python3"
  },
  "language_info": {
   "codemirror_mode": {
    "name": "ipython",
    "version": 3
   },
   "file_extension": ".py",
   "mimetype": "text/x-python",
   "name": "python",
   "nbconvert_exporter": "python",
   "pygments_lexer": "ipython3",
   "version": "3.7.3"
  }
 },
 "nbformat": 4,
 "nbformat_minor": 2
}
