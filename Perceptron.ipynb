{
  "nbformat": 4,
  "nbformat_minor": 0,
  "metadata": {
    "kernelspec": {
      "display_name": "Python 3",
      "language": "python",
      "name": "python3"
    },
    "language_info": {
      "codemirror_mode": {
        "name": "ipython",
        "version": 3
      },
      "file_extension": ".py",
      "mimetype": "text/x-python",
      "name": "python",
      "nbconvert_exporter": "python",
      "pygments_lexer": "ipython3",
      "version": "3.7.3"
    },
    "colab": {
      "name": "Perceptron.ipynb",
      "provenance": []
    }
  },
  "cells": [
    {
      "cell_type": "code",
      "metadata": {
        "id": "JdPFFo-6s9eT",
        "colab_type": "code",
        "colab": {}
      },
      "source": [
        "import random as rd"
      ],
      "execution_count": 0,
      "outputs": []
    },
    {
      "cell_type": "code",
      "metadata": {
        "id": "ViOVjkSLs9eb",
        "colab_type": "code",
        "colab": {}
      },
      "source": [
        "class Perceptron:\n",
        "    def __init__(self,n):\n",
        "        self.pesos = [1]+[rd.uniform(-1,1) for _ in range(n)]\n",
        "    def __str__(self):\n",
        "        return str(self.pesos)"
      ],
      "execution_count": 0,
      "outputs": []
    },
    {
      "cell_type": "code",
      "metadata": {
        "id": "uB2fD69rs9ei",
        "colab_type": "code",
        "colab": {
          "base_uri": "https://localhost:8080/",
          "height": 34
        },
        "outputId": "39df08ad-6f44-4089-e7de-46b8a341090e"
      },
      "source": [
        "print(Perceptron(3))"
      ],
      "execution_count": 64,
      "outputs": [
        {
          "output_type": "stream",
          "text": [
            "[1, -0.4392439619151711, -0.5824386109016737, 0.4539580844201736]\n"
          ],
          "name": "stdout"
        }
      ]
    },
    {
      "cell_type": "code",
      "metadata": {
        "id": "QsHus7wms9eo",
        "colab_type": "code",
        "colab": {}
      },
      "source": [
        "def umbral(x):\n",
        "    if x > 0:\n",
        "        return 1\n",
        "    else:\n",
        "        return 0"
      ],
      "execution_count": 0,
      "outputs": []
    },
    {
      "cell_type": "code",
      "metadata": {
        "id": "cGbW_MdLs9eu",
        "colab_type": "code",
        "colab": {}
      },
      "source": [
        ""
      ],
      "execution_count": 0,
      "outputs": []
    },
    {
      "cell_type": "code",
      "metadata": {
        "id": "18hscYP1w0yN",
        "colab_type": "code",
        "colab": {}
      },
      "source": [
        "def algoritmo(perceptron, conjunto, learning_rate, it):\n",
        "    cont = 0\n",
        "    while cont < it: #Aqui podriamos poner una condicion mas para que no pare hasta que clasifique sin error\n",
        "        for i in conjunto:\n",
        "            x = [-1]+[p for p in i[:-1]]\n",
        "            y = i[-1]\n",
        "            o = umbral(sum([x[k]*perceptron.pesos[k] for k in range(len(x))]))\n",
        "            for j in range(len(perceptron.pesos)-1):\n",
        "                perceptron.pesos[j] = perceptron.pesos[j] + learning_rate*(y-o)*x[j]\n",
        "        cont+=1\n",
        "    return perceptron.pesos"
      ],
      "execution_count": 0,
      "outputs": []
    },
    {
      "cell_type": "code",
      "metadata": {
        "id": "vdYmo-6Es9ez",
        "colab_type": "code",
        "colab": {}
      },
      "source": [
        "entrenamiento = [[1,1,1],[1,0,0]] # Para entrenar la funcion AND"
      ],
      "execution_count": 0,
      "outputs": []
    },
    {
      "cell_type": "code",
      "metadata": {
        "id": "E2L6KfQ0s9e3",
        "colab_type": "code",
        "colab": {
          "base_uri": "https://localhost:8080/",
          "height": 34
        },
        "outputId": "218ce74b-0fb6-4df0-8a0b-bfba8360570b"
      },
      "source": [
        "perceptron1 = Perceptron(3)\n",
        "print(perceptron1)"
      ],
      "execution_count": 93,
      "outputs": [
        {
          "output_type": "stream",
          "text": [
            "[1, -0.0669769150649906, -0.36063259536393666, 0.3656141132186337]\n"
          ],
          "name": "stdout"
        }
      ]
    },
    {
      "cell_type": "code",
      "metadata": {
        "id": "wFY5X7C6s9e7",
        "colab_type": "code",
        "colab": {
          "base_uri": "https://localhost:8080/",
          "height": 86
        },
        "outputId": "972c3275-3b47-4fec-9e67-1315d25eb6c0"
      },
      "source": [
        "algoritmo(perceptron1, entrenamiento, 0.1, 15000)"
      ],
      "execution_count": 94,
      "outputs": [
        {
          "output_type": "execute_result",
          "data": {
            "text/plain": [
              "[0.5000000000000001,\n",
              " 0.4330230849350094,\n",
              " 0.13936740463606334,\n",
              " 0.3656141132186337]"
            ]
          },
          "metadata": {
            "tags": []
          },
          "execution_count": 94
        }
      ]
    },
    {
      "cell_type": "code",
      "metadata": {
        "id": "TzzuXy8Os9fC",
        "colab_type": "code",
        "colab": {}
      },
      "source": [
        "def predecir(perceptron, dato): #Funcion para clasificar\n",
        "    dato = [-1] + dato\n",
        "    return umbral(sum([dato[i]*perceptron.pesos[i] for i in range(len(dato))]))"
      ],
      "execution_count": 0,
      "outputs": []
    },
    {
      "cell_type": "code",
      "metadata": {
        "id": "H5apLaDFs9fF",
        "colab_type": "code",
        "colab": {
          "base_uri": "https://localhost:8080/",
          "height": 34
        },
        "outputId": "575f1ba8-f449-4b97-a166-83dadfb5412e"
      },
      "source": [
        "predecir(perceptron1,[0,1])"
      ],
      "execution_count": 98,
      "outputs": [
        {
          "output_type": "execute_result",
          "data": {
            "text/plain": [
              "0"
            ]
          },
          "metadata": {
            "tags": []
          },
          "execution_count": 98
        }
      ]
    },
    {
      "cell_type": "code",
      "metadata": {
        "id": "1yjHcI-es9fK",
        "colab_type": "code",
        "colab": {}
      },
      "source": [
        ""
      ],
      "execution_count": 0,
      "outputs": []
    },
    {
      "cell_type": "code",
      "metadata": {
        "id": "XMrNDmHps9fP",
        "colab_type": "code",
        "colab": {}
      },
      "source": [
        "entrenamiento2 = [[1,0,1],[0,0,0]] #Para entrenar la funcion OR\n",
        "                                           #Si entreno incluyendo el ejemplo [0,1,1] no clasifica bien luego"
      ],
      "execution_count": 0,
      "outputs": []
    },
    {
      "cell_type": "code",
      "metadata": {
        "id": "F2Rep98qs9fT",
        "colab_type": "code",
        "colab": {}
      },
      "source": [
        "perceptron2 = Perceptron(3)"
      ],
      "execution_count": 0,
      "outputs": []
    },
    {
      "cell_type": "code",
      "metadata": {
        "id": "3uVe-wCHs9fW",
        "colab_type": "code",
        "colab": {
          "base_uri": "https://localhost:8080/",
          "height": 86
        },
        "outputId": "039007d4-d035-4ddf-afde-792a409904d8"
      },
      "source": [
        "algoritmo(perceptron2, entrenamiento2, 0.1, 5000)"
      ],
      "execution_count": 88,
      "outputs": [
        {
          "output_type": "execute_result",
          "data": {
            "text/plain": [
              "[0.7000000000000001,\n",
              " 0.7537052259756637,\n",
              " 0.8861656483505627,\n",
              " -0.04055037007903706]"
            ]
          },
          "metadata": {
            "tags": []
          },
          "execution_count": 88
        }
      ]
    },
    {
      "cell_type": "code",
      "metadata": {
        "id": "uIdl-OyGs9fb",
        "colab_type": "code",
        "colab": {
          "base_uri": "https://localhost:8080/",
          "height": 34
        },
        "outputId": "e4eb03e2-1176-47e5-ba07-57b2d392feb4"
      },
      "source": [
        "predecir(perceptron2,[1,1]) "
      ],
      "execution_count": 92,
      "outputs": [
        {
          "output_type": "execute_result",
          "data": {
            "text/plain": [
              "1"
            ]
          },
          "metadata": {
            "tags": []
          },
          "execution_count": 92
        }
      ]
    },
    {
      "cell_type": "code",
      "metadata": {
        "id": "EE0KC-r4s9fj",
        "colab_type": "code",
        "colab": {}
      },
      "source": [
        ""
      ],
      "execution_count": 0,
      "outputs": []
    }
  ]
}