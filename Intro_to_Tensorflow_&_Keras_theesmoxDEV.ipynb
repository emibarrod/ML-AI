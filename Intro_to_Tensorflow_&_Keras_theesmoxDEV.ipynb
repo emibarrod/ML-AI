{
  "nbformat": 4,
  "nbformat_minor": 0,
  "metadata": {
    "colab": {
      "name": "Intro to Tensorflow & Keras - theesmoxDEV",
      "provenance": [],
      "collapsed_sections": [
        "3SMblwxSTcb2",
        "lX0CgxmWYFsu",
        "gv9pUIS6dtsT",
        "Lpo3COr5kGSs",
        "gCjZJ_2yTWnY",
        "pAaisLceVybq",
        "E0uOoaP9u0eC",
        "InXWGlPFQXpX"
      ],
      "authorship_tag": "ABX9TyP0+nQjYn+dx8C7CZgnqlkP"
    },
    "kernelspec": {
      "name": "python3",
      "display_name": "Python 3"
    }
  },
  "cells": [
    {
      "cell_type": "code",
      "metadata": {
        "id": "Ion2ABX_TOmb",
        "colab_type": "code",
        "outputId": "b62bcc48-b6d4-4d07-967d-f6c2a86ac760",
        "colab": {
          "base_uri": "https://localhost:8080/",
          "height": 34
        }
      },
      "source": [
        "# Importing all the necessary things\n",
        "\n",
        "%tensorflow_version 2.x\n",
        "import tensorflow as tf\n",
        "import numpy as np\n",
        "import matplotlib.pyplot as plt"
      ],
      "execution_count": 0,
      "outputs": [
        {
          "output_type": "stream",
          "text": [
            "TensorFlow 2.x selected.\n"
          ],
          "name": "stdout"
        }
      ]
    },
    {
      "cell_type": "markdown",
      "metadata": {
        "id": "3SMblwxSTcb2",
        "colab_type": "text"
      },
      "source": [
        "# **CONSTANTS (Tensors)**"
      ]
    },
    {
      "cell_type": "markdown",
      "metadata": {
        "id": "0OnSFW1N3Lwd",
        "colab_type": "text"
      },
      "source": [
        "They are basically like variables , with the exception that we create them with TensorFlow, and they are all tensors."
      ]
    },
    {
      "cell_type": "code",
      "metadata": {
        "id": "3K7xp-JWTrnX",
        "colab_type": "code",
        "outputId": "666830a2-c2c0-4795-a98b-13d73f5f2eb9",
        "colab": {
          "base_uri": "https://localhost:8080/",
          "height": 52
        }
      },
      "source": [
        "constant_string = tf.constant(\"NAME\") # You don't have to specify the type, it\n",
        "                                      # is infered from the tensor content\n",
        "        \n",
        "constant_number = tf.constant(100, dtype=tf.int32)\n",
        "\n",
        "print(constant_string)\n",
        "print(constant_number)"
      ],
      "execution_count": 0,
      "outputs": [
        {
          "output_type": "stream",
          "text": [
            "tf.Tensor(b'NAME', shape=(), dtype=string)\n",
            "tf.Tensor(100, shape=(), dtype=int32)\n"
          ],
          "name": "stdout"
        }
      ]
    },
    {
      "cell_type": "markdown",
      "metadata": {
        "id": "w8E5jGeBVC5L",
        "colab_type": "text"
      },
      "source": [
        "As we see in the parameter \"shape\", it is empty. That means that we are using scalars. In the next example we will define multi-dimensional tensors."
      ]
    },
    {
      "cell_type": "code",
      "metadata": {
        "id": "_Z7jsWygVTZ3",
        "colab_type": "code",
        "outputId": "ac6a80f5-cf02-4459-91ac-8a87f2af569e",
        "colab": {
          "base_uri": "https://localhost:8080/",
          "height": 104
        }
      },
      "source": [
        "tensor_1d = tf.constant([1,2,3,4]) # vector\n",
        "\n",
        "tensor_2d = tf.constant([[1,2,3],[4,5,6]]) # matrix\n",
        "\n",
        "tensor_3d = tf.constant([[[1,2,3],[4,5,6]], [[1,2,3],[4,5,6]]]) # cube\n",
        "\n",
        "print(\"tensor_1d shape: {}\".format(tensor_1d.shape))\n",
        "print(\"----------------------------------------------\")\n",
        "print(\"tensor_2d shape: {}\".format(tensor_2d.shape))\n",
        "print(\"----------------------------------------------\")\n",
        "print(\"tensor_3d shape: {}\".format(tensor_3d.shape))"
      ],
      "execution_count": 0,
      "outputs": [
        {
          "output_type": "stream",
          "text": [
            "tensor_1d shape: (4,)\n",
            "----------------------------------------------\n",
            "tensor_2d shape: (2, 3)\n",
            "----------------------------------------------\n",
            "tensor_3d shape: (2, 2, 3)\n"
          ],
          "name": "stdout"
        }
      ]
    },
    {
      "cell_type": "markdown",
      "metadata": {
        "id": "CMw0GyaMcYr6",
        "colab_type": "text"
      },
      "source": [
        "Take in count that we have used ```tf.shape``` to check the tensor shape."
      ]
    },
    {
      "cell_type": "markdown",
      "metadata": {
        "id": "lX0CgxmWYFsu",
        "colab_type": "text"
      },
      "source": [
        "## What can we see here?, simplifying we have:\n",
        "\n",
        "*   **tensor_1d**: Its shape tells us that it has 4 objects, and this objects doesn't have any elements (1 dimension).\n",
        "*   **tensor_2d**: Its shape tells us that it has 2 objects, and each object has 3 elements (it is 2-dimensional).\n",
        "*   **tensor_3d**: Its shape tells us that it has 2 objects, with 2 elements each and each element has 3 components (it is 3-dimensional).\n",
        "\n",
        "  We check this using ```tf.rank()``` :\n"
      ]
    },
    {
      "cell_type": "code",
      "metadata": {
        "id": "p_BC30vZae8L",
        "colab_type": "code",
        "outputId": "28ebc108-df98-4fb8-ccb1-89c4d46dbfa8",
        "colab": {
          "base_uri": "https://localhost:8080/",
          "height": 69
        }
      },
      "source": [
        "print(\"tensor_1d is a tensor with {} dimensions\".format(tf.rank(tensor_1d)))\n",
        "print(\"tensor_2d is a tensor with {} dimensions\".format(tf.rank(tensor_2d)))\n",
        "print(\"tensor_3d is a tensor with {} dimensions\".format(tf.rank(tensor_3d)))"
      ],
      "execution_count": 0,
      "outputs": [
        {
          "output_type": "stream",
          "text": [
            "tensor_1d is a tensor with 1 dimensions\n",
            "tensor_2d is a tensor with 2 dimensions\n",
            "tensor_3d is a tensor with 3 dimensions\n"
          ],
          "name": "stdout"
        }
      ]
    },
    {
      "cell_type": "markdown",
      "metadata": {
        "id": "gv9pUIS6dtsT",
        "colab_type": "text"
      },
      "source": [
        "## **Tensor operations**\n",
        "\n",
        "We will try to compute this operation:\n",
        "\n",
        "![alt text](https://raw.githubusercontent.com/aamini/introtodeeplearning/master/lab1/img/add-graph.png)"
      ]
    },
    {
      "cell_type": "code",
      "metadata": {
        "id": "XvPKtn-MeB2c",
        "colab_type": "code",
        "colab": {}
      },
      "source": [
        "# Nodes in the graph:\n",
        "a = tf.constant(1)\n",
        "b = tf.constant(2)\n",
        "\n",
        "# Addition of the nodes:\n",
        "c = tf.add(a,b)"
      ],
      "execution_count": 0,
      "outputs": []
    },
    {
      "cell_type": "markdown",
      "metadata": {
        "id": "rPc3wyB8egdk",
        "colab_type": "text"
      },
      "source": [
        "Lets try a more complex operation:\n",
        "\n",
        "![alt text](https://raw.githubusercontent.com/aamini/introtodeeplearning/master/lab1/img/computation-graph.png)\n",
        "\n",
        "We will see two approaches:"
      ]
    },
    {
      "cell_type": "code",
      "metadata": {
        "id": "aPSjMYWeenTO",
        "colab_type": "code",
        "outputId": "afc852e0-8ee0-4f47-a0d8-8355c31730d4",
        "colab": {
          "base_uri": "https://localhost:8080/",
          "height": 52
        }
      },
      "source": [
        "## APPROACH 1 ##\n",
        "# We simply perform the operations\n",
        "\n",
        "# Initial nodes in the graph:\n",
        "a2 = tf.constant(1) \n",
        "b2 = tf.constant(2)\n",
        "\n",
        "# Intermediate nodes:\n",
        "c2 = tf.add(a2,b2)\n",
        "d2 = tf.subtract(b2,1)\n",
        "\n",
        "# Final node:\n",
        "e2 = tf.multiply(c2,d2) # element-wise matrices multiplication\n",
        "\n",
        "print(\"Result from approach 1: {}\".format(e2))\n",
        "\n",
        "## APPROACH 2 ##\n",
        "# We define a function to compute the operation\n",
        "\n",
        "def operation(a,b): # We suppose that 'a' and 'b' are tensors\n",
        "  c,d = tf.add(a,b), tf.subtract(b,1)\n",
        "  return tf.multiply(c,d)\n",
        "\n",
        "print(\"Result from approach 2: {}\".format(operation(a2,b2)))"
      ],
      "execution_count": 0,
      "outputs": [
        {
          "output_type": "stream",
          "text": [
            "Result from approach 1: 3\n",
            "Result from approach 2: 3\n"
          ],
          "name": "stdout"
        }
      ]
    },
    {
      "cell_type": "markdown",
      "metadata": {
        "id": "GZbSrWpplpXq",
        "colab_type": "text"
      },
      "source": [
        "We can multiply matrices using ```tf.matmul```.\n",
        "Keep in mind that shape of matrices have to be transposed.\n",
        "Here we have two different ways of calculating it:"
      ]
    },
    {
      "cell_type": "code",
      "metadata": {
        "id": "n3Hu8xx2jET-",
        "colab_type": "code",
        "outputId": "9b8d399c-f83f-49de-b99e-01206732923a",
        "colab": {
          "base_uri": "https://localhost:8080/",
          "height": 173
        }
      },
      "source": [
        "constant1 = tf.constant([[1,2,3]], shape = (3,1))\n",
        "constant2 = tf.constant([[3,2,1]], shape = (1,3))\n",
        "print(tf.matmul(constant1, constant2))\n",
        "\n",
        "print(\"----------------------------------------\")\n",
        "\n",
        "constant3 = tf.constant([[1,2,3]])\n",
        "constant4 = tf.constant([[3,2,1]])\n",
        "print(tf.matmul(constant3, constant4, transpose_a=True))"
      ],
      "execution_count": 0,
      "outputs": [
        {
          "output_type": "stream",
          "text": [
            "tf.Tensor(\n",
            "[[3 2 1]\n",
            " [6 4 2]\n",
            " [9 6 3]], shape=(3, 3), dtype=int32)\n",
            "----------------------------------------\n",
            "tf.Tensor(\n",
            "[[3 2 1]\n",
            " [6 4 2]\n",
            " [9 6 3]], shape=(3, 3), dtype=int32)\n"
          ],
          "name": "stdout"
        }
      ]
    },
    {
      "cell_type": "markdown",
      "metadata": {
        "id": "VxvLcrUEhiyy",
        "colab_type": "text"
      },
      "source": [
        "# **Introducing Neural Networks**\n",
        "\n",
        "\n",
        "\n"
      ]
    },
    {
      "cell_type": "markdown",
      "metadata": {
        "id": "kIIxvJZI7rmb",
        "colab_type": "text"
      },
      "source": [
        "A simple neural network (NN) has an input layer, a hidden layer and an output layer.\n",
        "\n",
        "In this image we se a fully connected NN, with 4 inputs units, 5 hidden units and 1 output unit:\n",
        "\n",
        "![alt text](https://lh3.googleusercontent.com/proxy/uDLD5AriQoHVBRcKjhhUq_Sj3gCHvN57N4LVaLECbQcZ0xQYLK5ZGMdYqtfMsZddwLer7fOzTxW6cpnuGaihF19LgD-WBY4MiiXneJANZZ6qKN5B5WiKVYqs)"
      ]
    },
    {
      "cell_type": "markdown",
      "metadata": {
        "id": "40MYiM3zaBSC",
        "colab_type": "text"
      },
      "source": [
        "Each unit is a perceptron that has an activation function:\n",
        "\n",
        "![perceptron](https://www.researchgate.net/profile/Arwin_Sumari/publication/330370846/figure/fig2/AS:715120929947649@1547509524746/A-mathematical-model-of-a-neuron.ppm)\n",
        "\n",
        "Mathematically, it is:\n",
        "\n",
        "![maths](https://hackernoon.com/hn-images/1*V1mNUbnpA7thNIUCHJNpuA.png)"
      ]
    },
    {
      "cell_type": "markdown",
      "metadata": {
        "id": "LrEsRvRW3CvK",
        "colab_type": "text"
      },
      "source": [
        "We will use the Keras API for easy-build neural networks. It is implemented as\n",
        "```tf.keras```. Now, with TensorFlow 2.0, there are two main ways of building a \n",
        "simple neural net:\n",
        "\n",
        "*   Using ```tf.keras.Sequential``` (the \"classic\" way)\n",
        "*   Using the ***Keras functional API*** (the \"new\" way)\n",
        "\n",
        "\n",
        "> To keep in mind: The tf.keras version in the latest TensorFlow release might not be the same as the latest keras version from PyPI. Check tf.keras.version.\n"
      ]
    },
    {
      "cell_type": "markdown",
      "metadata": {
        "id": "Lpo3COr5kGSs",
        "colab_type": "text"
      },
      "source": [
        "## **tf.keras.Sequential**"
      ]
    },
    {
      "cell_type": "markdown",
      "metadata": {
        "id": "xoqqlQ2QXJfq",
        "colab_type": "text"
      },
      "source": [
        "This is the \"classic way\" of building a NN. \n",
        "We are going to build a simple fully-connected NN with 1 hidden layer:"
      ]
    },
    {
      "cell_type": "code",
      "metadata": {
        "id": "Y4lajDl9Jnt7",
        "colab_type": "code",
        "colab": {}
      },
      "source": [
        "from tensorflow.keras import layers\n",
        "\n",
        "model = tf.keras.Sequential()\n",
        "# Adds a densely-connected layer with 64 units to the model,\n",
        "# with the input data shape -> (32,)\n",
        "model.add(layers.Dense(64, activation='relu', input_shape=(32,)))\n",
        "# Add another:\n",
        "model.add(layers.Dense(64, activation='relu'))\n",
        "# Add an output layer with 10 output units:\n",
        "model.add(layers.Dense(10))"
      ],
      "execution_count": 0,
      "outputs": []
    },
    {
      "cell_type": "markdown",
      "metadata": {
        "id": "i1Ok0m2QJvzu",
        "colab_type": "text"
      },
      "source": [
        "This is the same as:"
      ]
    },
    {
      "cell_type": "code",
      "metadata": {
        "id": "StcL9icQJ1ng",
        "colab_type": "code",
        "colab": {}
      },
      "source": [
        "model = tf.keras.Sequential([\n",
        "# Adds a densely-connected layer with 64 units to the model,\n",
        "# with the input data shape -> (32,)\n",
        "layers.Dense(64, activation='relu', input_shape=(32,)),\n",
        "# Add another (we don't need the input shape because it is\n",
        "# a hidden layer):\n",
        "layers.Dense(64, activation='relu'),\n",
        "# Add an output layer with 10 output units:\n",
        "layers.Dense(10)])"
      ],
      "execution_count": 0,
      "outputs": []
    },
    {
      "cell_type": "markdown",
      "metadata": {
        "id": "Wz-n_nuZKRww",
        "colab_type": "text"
      },
      "source": [
        "The base of a NN is the model object (in this case we are using ```Sequential()```), were we add Layers and more things\n",
        "that we will see later."
      ]
    },
    {
      "cell_type": "markdown",
      "metadata": {
        "id": "gCjZJ_2yTWnY",
        "colab_type": "text"
      },
      "source": [
        "## **Keras functional API**"
      ]
    },
    {
      "cell_type": "markdown",
      "metadata": {
        "id": "-Pb2Jyo2ZPi2",
        "colab_type": "text"
      },
      "source": [
        "The Keras functional API is a (new) way to create models that are more flexible than the ```tf.keras.Sequential``` API"
      ]
    },
    {
      "cell_type": "code",
      "metadata": {
        "id": "dDzt69qAU47f",
        "colab_type": "code",
        "colab": {}
      },
      "source": [
        "# We create the input data , with shape -> (32,)\n",
        "inputs = keras.Input(shape=(32,))\n",
        "# We create a densely-connected layer with 64 units to the model\n",
        "dense = layers.Dense(64, activation='relu')\n",
        "# We combine the input shape and the dense layer to build our input layer\n",
        "# and store it in x\n",
        "x = dense(inputs)\n",
        "# We add another dense layer with 64 units to x\n",
        "x = layers.Dense(64, activation='relu')(x)\n",
        "# We create the output layer with 10 units by adding one more layer to x\n",
        "outputs = layers.Dense(10)(x)\n",
        "model = keras.Model(inputs=inputs, outputs=outputs, name='mnist_model')"
      ],
      "execution_count": 0,
      "outputs": []
    },
    {
      "cell_type": "markdown",
      "metadata": {
        "id": "pAaisLceVybq",
        "colab_type": "text"
      },
      "source": [
        "## **Compiling and training the model**"
      ]
    },
    {
      "cell_type": "markdown",
      "metadata": {
        "id": "852xA4zPuIeF",
        "colab_type": "text"
      },
      "source": [
        "Once we have the model (it doesn't matter which way we choose), we have to compile it. This is the moment when we specify optimizers, the loss function, etc (we will cover these things later on):"
      ]
    },
    {
      "cell_type": "code",
      "metadata": {
        "id": "ZEyZU9z0OznB",
        "colab_type": "code",
        "colab": {}
      },
      "source": [
        "model.compile(optimizer=tf.keras.optimizers.Adam(0.01), \n",
        "              loss=tf.keras.losses.CategoricalCrossentropy(from_logits=True),\n",
        "              metrics=['accuracy'])"
      ],
      "execution_count": 0,
      "outputs": []
    },
    {
      "cell_type": "markdown",
      "metadata": {
        "id": "hxC12IcMO90l",
        "colab_type": "text"
      },
      "source": [
        "After compiling our model, we can train it with data. We can use either numpy \n",
        "or a ```tf.data``` instance:"
      ]
    },
    {
      "cell_type": "markdown",
      "metadata": {
        "id": "E0uOoaP9u0eC",
        "colab_type": "text"
      },
      "source": [
        "### **Using numpy:**\n",
        "\n",
        "For small datasets, use in-memory NumPy arrays to train and evaluate a model.The model is \"fit\" to the training data using the fit method:"
      ]
    },
    {
      "cell_type": "code",
      "metadata": {
        "id": "y0aTj79-QFNm",
        "colab_type": "code",
        "colab": {}
      },
      "source": [
        "import numpy as np\n",
        "\n",
        "# We load our data and our targets(labels)\n",
        "data = np.random.random((1000, 32))\n",
        "labels = np.random.random((1000, 10))\n",
        "\n",
        "# We train our model\n",
        "model.fit(data, labels, epochs=10, batch_size=32)"
      ],
      "execution_count": 0,
      "outputs": []
    },
    {
      "cell_type": "markdown",
      "metadata": {
        "id": "InXWGlPFQXpX",
        "colab_type": "text"
      },
      "source": [
        "### **Using tf.data**\n",
        "Use the Datasets API to scale to large datasets or multi-device training. Pass a tf.data.Dataset instance to the fit method:"
      ]
    },
    {
      "cell_type": "code",
      "metadata": {
        "id": "oVq20p5GP73r",
        "colab_type": "code",
        "colab": {}
      },
      "source": [
        "# Instantiates a toy dataset instance:\n",
        "dataset = tf.data.Dataset.from_tensor_slices((data, labels))\n",
        "dataset = dataset.batch(32)\n",
        "\n",
        "model.fit(dataset, epochs=10)"
      ],
      "execution_count": 0,
      "outputs": []
    }
  ]
}