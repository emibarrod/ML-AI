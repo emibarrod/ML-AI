{
 "cells": [
  {
   "cell_type": "code",
   "execution_count": 37,
   "metadata": {},
   "outputs": [],
   "source": [
    "import numpy as np"
   ]
  },
  {
   "cell_type": "markdown",
   "metadata": {},
   "source": [
    "# Tensores"
   ]
  },
  {
   "cell_type": "markdown",
   "metadata": {},
   "source": [
    "Las estructuras basicas de datos en Deep Learning son los tensores\n",
    "que son basicamente arrays n-dimensionales, por ejemplo una matriz\n",
    "es un tensor 2-dimensional."
   ]
  },
  {
   "cell_type": "markdown",
   "metadata": {},
   "source": [
    " "
   ]
  },
  {
   "cell_type": "markdown",
   "metadata": {},
   "source": [
    "## Escalar"
   ]
  },
  {
   "cell_type": "code",
   "execution_count": 27,
   "metadata": {},
   "outputs": [
    {
     "name": "stdout",
     "output_type": "stream",
     "text": [
      "Tensor: 27\n",
      "Dimension: 0\n"
     ]
    }
   ],
   "source": [
    "# Vamos a crear un escalar (tensor 0-dimensional) en numpy:\n",
    "\n",
    "escalar = np.array(27)\n",
    "print(\"Tensor: \" + str(escalar)) # Nos muestra el escalar que acabamos de crear\n",
    "print(\"Dimension: \" + str(escalar.ndim)) # Nos muestra las dimensiones (el rango o los ejes) del tensor que hemos creado"
   ]
  },
  {
   "cell_type": "markdown",
   "metadata": {},
   "source": [
    "## Vector"
   ]
  },
  {
   "cell_type": "code",
   "execution_count": 28,
   "metadata": {},
   "outputs": [
    {
     "name": "stdout",
     "output_type": "stream",
     "text": [
      "Tensor: [1 2 3 4]\n",
      "Dimension: 1\n"
     ]
    }
   ],
   "source": [
    "# Vamos a crear un vector (tensor 1-dimensional) en numpy:\n",
    "\n",
    "vector = np.array([1,2,3,4]) # Creamos un vector 4-dimensional\n",
    "print(\"Tensor: \" + str(vector))\n",
    "print(\"Dimension: \" + str(vector.ndim))"
   ]
  },
  {
   "cell_type": "markdown",
   "metadata": {},
   "source": [
    "## Matriz"
   ]
  },
  {
   "cell_type": "code",
   "execution_count": 29,
   "metadata": {},
   "outputs": [
    {
     "name": "stdout",
     "output_type": "stream",
     "text": [
      "Tensor: \n",
      "\n",
      " [[ 1  2  3  4]\n",
      " [ 5  6  7  8]\n",
      " [ 9 10 11 12]]\n",
      "\n",
      " Dimension: 2\n"
     ]
    }
   ],
   "source": [
    "# Vamos a crear una matriz (tensor 2-dimensional) en numpy:\n",
    "\n",
    "matriz = np.array([[1,2,3,4],\n",
    "                  [5,6,7,8],\n",
    "                  [9,10,11,12]])\n",
    "print(\"Tensor: \\n\\n \" + str(matriz))\n",
    "print(\"\\n Dimension: \" + str(matriz.ndim))"
   ]
  },
  {
   "cell_type": "markdown",
   "metadata": {},
   "source": [
    "## Tensor 3-dimensional"
   ]
  },
  {
   "cell_type": "code",
   "execution_count": 46,
   "metadata": {},
   "outputs": [
    {
     "name": "stdout",
     "output_type": "stream",
     "text": [
      "Tensor: \n",
      "\n",
      " [[[ 1  1  2 34  0]\n",
      "  [ 6  2  3 35  1]\n",
      "  [ 7  3  4 36  2]]\n",
      "\n",
      " [[ 2  1  2 34  0]\n",
      "  [ 6  2  3 35  1]\n",
      "  [ 7  3  4 36  2]]\n",
      "\n",
      " [[ 3  1  2 34  0]\n",
      "  [ 6  2  3 35  1]\n",
      "  [ 7  3  4 36  2]]]\n",
      "\n",
      " Dimension: 3\n"
     ]
    }
   ],
   "source": [
    "#Vamos a crear un tensor 3-dimensional en numpy:\n",
    "\n",
    "tensor3d = np.array([  [[1, 1, 2, 34, 0],\n",
    "                       [6, 2, 3, 35, 1],\n",
    "                       [7, 3, 4, 36, 2]],\n",
    "              \n",
    "                       [[2, 1, 2, 34, 0],\n",
    "                       [6, 2, 3, 35, 1],\n",
    "                       [7, 3, 4, 36, 2]],\n",
    "                \n",
    "                       [[3, 1, 2, 34, 0],\n",
    "                       [6, 2, 3, 35, 1],\n",
    "                       [7, 3, 4, 36, 2]]   ])\n",
    "\n",
    "print(\"Tensor: \\n\\n \" + str(tensor3d))\n",
    "print(\"\\n Dimension: \" + str(tensor3d.ndim))"
   ]
  },
  {
   "cell_type": "markdown",
   "metadata": {},
   "source": [
    "## Tensores n-dimensionales"
   ]
  },
  {
   "cell_type": "markdown",
   "metadata": {},
   "source": [
    "Puede que nos hayamos dado cuenta de un patron. Aumentar de dimension un tensor no es mas\n",
    "que meter varios tensores de la dimension anterior en un array."
   ]
  },
  {
   "cell_type": "markdown",
   "metadata": {},
   "source": [
    " "
   ]
  },
  {
   "cell_type": "markdown",
   "metadata": {},
   "source": [
    "# Manipulando tensores"
   ]
  },
  {
   "cell_type": "markdown",
   "metadata": {},
   "source": [
    " "
   ]
  },
  {
   "cell_type": "markdown",
   "metadata": {},
   "source": [
    "Para **crear** tensores es como hemos visto arriba:"
   ]
  },
  {
   "cell_type": "code",
   "execution_count": 45,
   "metadata": {},
   "outputs": [
    {
     "name": "stdout",
     "output_type": "stream",
     "text": [
      "[1 2]\n"
     ]
    }
   ],
   "source": [
    "tensor = np.array([1,2])\n",
    "print(tensor)"
   ]
  },
  {
   "cell_type": "markdown",
   "metadata": {},
   "source": [
    "Para ver la **forma** que tiene un tensor:"
   ]
  },
  {
   "cell_type": "code",
   "execution_count": 42,
   "metadata": {},
   "outputs": [
    {
     "name": "stdout",
     "output_type": "stream",
     "text": [
      "(3, 3, 5)\n"
     ]
    }
   ],
   "source": [
    "forma = tensor3d.shape\n",
    "print(forma)"
   ]
  },
  {
   "cell_type": "markdown",
   "metadata": {},
   "source": [
    "Para ver el **tipo** de un tensor:"
   ]
  },
  {
   "cell_type": "code",
   "execution_count": 44,
   "metadata": {},
   "outputs": [
    {
     "name": "stdout",
     "output_type": "stream",
     "text": [
      "int64\n"
     ]
    }
   ],
   "source": [
    "tipo = tensor3d.dtype\n",
    "print(tipo)"
   ]
  },
  {
   "cell_type": "markdown",
   "metadata": {},
   "source": [
    "## Slicing"
   ]
  },
  {
   "cell_type": "markdown",
   "metadata": {},
   "source": [
    "Es un slicing normal y corriente, pero hay que tener en cuenta la n-dimensionalidad del tensor"
   ]
  },
  {
   "cell_type": "code",
   "execution_count": 56,
   "metadata": {},
   "outputs": [
    {
     "name": "stdout",
     "output_type": "stream",
     "text": [
      "\n",
      "\n",
      "tensor3d_slice1: \n",
      "\n",
      "[[[1 1]]]\n",
      "---------------------\n",
      "tensor3d_slice2: \n",
      "\n",
      "[[[1 1]\n",
      "  [6 2]]\n",
      "\n",
      " [[2 1]\n",
      "  [6 2]]]\n",
      "---------------------\n",
      "tensor3d_slice3: \n",
      "\n",
      "[[[1 1]]\n",
      "\n",
      " [[2 1]]\n",
      "\n",
      " [[3 1]]]\n"
     ]
    }
   ],
   "source": [
    "tensor3d_slice1 = tensor3d[0:1,0:1,0:2] # De la primera matriz coge la primera fila, los dos primeros elementos.\n",
    "tensor3d_slice2 = tensor3d[0:2,0:2,0:2] # De las 2 primeras matrices coge las 2 primeras filas, y de estas los dos primeros elementos.\n",
    "tensor3d_slice3 = tensor3d[0:3,0:1,0:2] # De las 3 primeras matrices coge la primera fila, los dos primeros elementos.\n",
    "\n",
    "print(\"\\n\")\n",
    "print(\"tensor3d_slice1: \\n\")\n",
    "print(tensor3d_slice1)\n",
    "print(\"---------------------\")\n",
    "print(\"tensor3d_slice2: \\n\")\n",
    "print(tensor3d_slice2)\n",
    "print(\"---------------------\")\n",
    "print(\"tensor3d_slice3: \\n\")\n",
    "print(tensor3d_slice3)"
   ]
  },
  {
   "cell_type": "markdown",
   "metadata": {},
   "source": [
    "Los indices del slicing se van seleccionando de fuera hacia dentro.\n",
    "en el ejemplo ` tensor3d[0:3,0:1,0:2] ` hemos seleccionado las 3 primeras matrices,\n",
    "de estas tres matrices hemos cogido de cada una la primera fila, y de cada una de las filas que\n",
    "hemos cogido solo nos quedamos con los 2 primeros elementos."
   ]
  },
  {
   "cell_type": "markdown",
   "metadata": {},
   "source": [
    "En Deep Learning consideramos el primer indice (el primer eje) como el **eje de los ejemplos**\n",
    ",ya que es el indice del conjunto mas exterior que engloba todos los datos."
   ]
  },
  {
   "cell_type": "markdown",
   "metadata": {},
   "source": [
    "## Lotes de datos"
   ]
  },
  {
   "cell_type": "markdown",
   "metadata": {},
   "source": [
    "Normalmente en Deep Learning los ejemplos se usan por **lotes** (batchs en ingles), es decir,\n",
    "separan todos los ejemplos que tenemos en dos o mas lotes."
   ]
  },
  {
   "cell_type": "code",
   "execution_count": null,
   "metadata": {},
   "outputs": [],
   "source": []
  }
 ],
 "metadata": {
  "kernelspec": {
   "display_name": "Python 3",
   "language": "python",
   "name": "python3"
  },
  "language_info": {
   "codemirror_mode": {
    "name": "ipython",
    "version": 3
   },
   "file_extension": ".py",
   "mimetype": "text/x-python",
   "name": "python",
   "nbconvert_exporter": "python",
   "pygments_lexer": "ipython3",
   "version": "3.7.4"
  }
 },
 "nbformat": 4,
 "nbformat_minor": 2
}
