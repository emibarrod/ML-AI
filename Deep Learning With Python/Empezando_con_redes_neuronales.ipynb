{
  "nbformat": 4,
  "nbformat_minor": 0,
  "metadata": {
    "kernelspec": {
      "display_name": "Python [conda env:.conda-tyk2]",
      "language": "python",
      "name": "conda-env-.conda-tyk2-py"
    },
    "language_info": {
      "codemirror_mode": {
        "name": "ipython",
        "version": 3
      },
      "file_extension": ".py",
      "mimetype": "text/x-python",
      "name": "python",
      "nbconvert_exporter": "python",
      "pygments_lexer": "ipython3",
      "version": "3.7.6"
    },
    "colab": {
      "name": "Empezando_con_redes_neuronales.ipynb",
      "provenance": []
    }
  },
  "cells": [
    {
      "cell_type": "markdown",
      "metadata": {
        "id": "tTlm1CNoHNJ4",
        "colab_type": "text"
      },
      "source": [
        "# Anatomía de una red neuronal"
      ]
    },
    {
      "cell_type": "markdown",
      "metadata": {
        "id": "lrI7YLSiHNJ-",
        "colab_type": "text"
      },
      "source": [
        "Las redes neuronales están formadas por **4** componentes:\n",
        "- **Capas**, que se combinan formando una red (o modelo)\n",
        "- Los **datos de entrada** y los correspondientes **objetivos**\n",
        "- La **función de pérdida** (función  objetivo)\n",
        "- El **optimizador, que determina cómo aprende la red**"
      ]
    },
    {
      "cell_type": "markdown",
      "metadata": {
        "id": "lFjcs1C0HNKB",
        "colab_type": "text"
      },
      "source": [
        "![Anatomia de la red](https://github.com/theesmoxDEV/ML-AI/blob/master/Deep%20Learning%20With%20Python/anatomia_red.png?raw=1)"
      ]
    },
    {
      "cell_type": "markdown",
      "metadata": {
        "id": "_SEuvo0JHNKF",
        "colab_type": "text"
      },
      "source": [
        "--------------"
      ]
    },
    {
      "cell_type": "markdown",
      "metadata": {
        "id": "lir47801HNKI",
        "colab_type": "text"
      },
      "source": [
        "## Capas: los ladrillos del deep learning"
      ]
    },
    {
      "cell_type": "markdown",
      "metadata": {
        "id": "xhka0A5mHNKS",
        "colab_type": "text"
      },
      "source": [
        "Es un módulo **procesador de datos** que recibe una entrada de uno o más tensores y da una salida de uno o más tensores. Algunas capas no tienen estado, pero la mayoría lo tiene. Este estado son los **pesos** de la red, uno o más tensores que contienen el **conocimiento** de la red.  \n",
        "Cada tipo de capas son mejores o peores para algunos tipos de tensores.\n",
        "\n",
        "Crear un modelo en deep learning es básicamente encajar **capas compatibles**.\n",
        "La noción de compatibilidad la usamos ya que las capas solo aceptan tensores de una cierta forma, teniendo que encajar la salida de la anterior capa con la entrada de la siguiente. Mostramos esto con un ejemplo usando Keras."
      ]
    },
    {
      "cell_type": "markdown",
      "metadata": {
        "id": "CcqmVzqUHNKT",
        "colab_type": "text"
      },
      "source": [
        "Vamos a crear una capa que solo admita tensores 2D en los que su primera dimensión es 784, y devuelve un tensor en el que su primera dimensión ha sido transformada a 32."
      ]
    },
    {
      "cell_type": "code",
      "metadata": {
        "id": "EG6meyPWHNKX",
        "colab_type": "code",
        "colab": {
          "base_uri": "https://localhost:8080/",
          "height": 124
        },
        "outputId": "c3454355-764f-4e11-84d6-f129dfa6c1cc"
      },
      "source": [
        "from keras import layers\n",
        "\n",
        "layer = layers.Dense(32, input_shape=(784,))"
      ],
      "execution_count": 1,
      "outputs": [
        {
          "output_type": "stream",
          "text": [
            "Using TensorFlow backend.\n"
          ],
          "name": "stderr"
        },
        {
          "output_type": "display_data",
          "data": {
            "text/html": [
              "<p style=\"color: red;\">\n",
              "The default version of TensorFlow in Colab will soon switch to TensorFlow 2.x.<br>\n",
              "We recommend you <a href=\"https://www.tensorflow.org/guide/migrate\" target=\"_blank\">upgrade</a> now \n",
              "or ensure your notebook will continue to use TensorFlow 1.x via the <code>%tensorflow_version 1.x</code> magic:\n",
              "<a href=\"https://colab.research.google.com/notebooks/tensorflow_version.ipynb\" target=\"_blank\">more info</a>.</p>\n"
            ],
            "text/plain": [
              "<IPython.core.display.HTML object>"
            ]
          },
          "metadata": {
            "tags": []
          }
        },
        {
          "output_type": "stream",
          "text": [
            "WARNING:tensorflow:From /usr/local/lib/python3.6/dist-packages/keras/backend/tensorflow_backend.py:66: The name tf.get_default_graph is deprecated. Please use tf.compat.v1.get_default_graph instead.\n",
            "\n"
          ],
          "name": "stdout"
        }
      ]
    },
    {
      "cell_type": "markdown",
      "metadata": {
        "id": "4CqkHo-MHNKf",
        "colab_type": "text"
      },
      "source": [
        "La compatibilidad entre capas usando Keras no es ningún problema ya que **encajan automáticamente**, como vemos en el siguiente ejemplo:"
      ]
    },
    {
      "cell_type": "code",
      "metadata": {
        "id": "SFnS2-BcHNKh",
        "colab_type": "code",
        "colab": {
          "base_uri": "https://localhost:8080/",
          "height": 94
        },
        "outputId": "312797a7-4999-4720-f5a4-f2a80249c346"
      },
      "source": [
        "from keras import models\n",
        "from keras import layers\n",
        "\n",
        "model = models.Sequential()\n",
        "model.add(layers.Dense(32, input_shape=(784,)))\n",
        "model.add(layers.Dense(32))"
      ],
      "execution_count": 2,
      "outputs": [
        {
          "output_type": "stream",
          "text": [
            "WARNING:tensorflow:From /usr/local/lib/python3.6/dist-packages/keras/backend/tensorflow_backend.py:541: The name tf.placeholder is deprecated. Please use tf.compat.v1.placeholder instead.\n",
            "\n",
            "WARNING:tensorflow:From /usr/local/lib/python3.6/dist-packages/keras/backend/tensorflow_backend.py:4432: The name tf.random_uniform is deprecated. Please use tf.random.uniform instead.\n",
            "\n"
          ],
          "name": "stdout"
        }
      ]
    },
    {
      "cell_type": "markdown",
      "metadata": {
        "id": "2FlzluheHNKp",
        "colab_type": "text"
      },
      "source": [
        "Aquí vemos que no surge ningún tipo de fallo, ya que la segunda capa se adapta automáticamente a la salida de la primera (vemos que no le hemos pasado el argumento para la forma del input), es decir, un tensor en el que la primera dimensión es 32."
      ]
    },
    {
      "cell_type": "markdown",
      "metadata": {
        "id": "mgjTfqwXHNKs",
        "colab_type": "text"
      },
      "source": [
        "## Modelos: redes de capas"
      ]
    },
    {
      "cell_type": "markdown",
      "metadata": {
        "id": "1Z3AMTS-HNKu",
        "colab_type": "text"
      },
      "source": [
        "Un modelo de deep-learning es un grafo de capas directo y acíclico.  \n",
        "El tipo más típico de modelo es una **pila lineal de capas**, que tiene una entrada y una sola salida. Algunos ejemplos más son las **redes de dos ramas**, las **redes multi-cabeza** y los **bloques de inicio**."
      ]
    },
    {
      "cell_type": "markdown",
      "metadata": {
        "id": "gcO6jmkTHNKw",
        "colab_type": "text"
      },
      "source": [
        "La topología de una red define un **espacio de hipótesis**.  \n",
        "Eligiendo la topología de la red, reducimos nuestro **espacio de posibilidades** (espacio de hipótesis) a una serie específica de operaciones de tensores que mapean los datos de entrada con los de salida.  \n",
        "Elegir la arquitectura de la red es un paso muy importante en la construcción de la propia red."
      ]
    },
    {
      "cell_type": "markdown",
      "metadata": {
        "id": "oUcPKBb_HNKx",
        "colab_type": "text"
      },
      "source": [
        "## Función de pérdida y optimizadores: las claves para configurar el proceso de aprendizaje"
      ]
    },
    {
      "cell_type": "markdown",
      "metadata": {
        "id": "r1YbpwuSHNKy",
        "colab_type": "text"
      },
      "source": [
        "- **Función de pérdida** (función objetivo): la cantidad que va a ser minimizada durante el entrenamiento. Representa una medida de éxito para la tarea que estamos ejecutando.\n",
        "- **Optimizador**: Determina cómo la red va a ser modificada, basándose en la función objetivo. Implementa alguna variante del descenso por el gradiente estocástico."
      ]
    },
    {
      "cell_type": "markdown",
      "metadata": {
        "id": "XWCfIQ_6HNKz",
        "colab_type": "text"
      },
      "source": [
        "Una red tiene **tantas funciones objetivos como salidas** tenga, pero el proceso del descenso por el gradiente se basa en **un solo escalar**. Este escalar es la **media** de los valores de todas las funciones objetivo.\n",
        "\n",
        "Elegir las funciones objetivos es un paso muy importante a la hora de definir nuestra red, ya que la red minimizará esa función lo máximo posible."
      ]
    },
    {
      "cell_type": "markdown",
      "metadata": {
        "id": "rak3HL7GH4HI",
        "colab_type": "text"
      },
      "source": [
        "HOla"
      ]
    },
    {
      "cell_type": "code",
      "metadata": {
        "id": "uaZomqtmH5GV",
        "colab_type": "code",
        "colab": {}
      },
      "source": [
        ""
      ],
      "execution_count": 0,
      "outputs": []
    }
  ]
}